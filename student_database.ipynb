{
 "cells": [
  {
   "cell_type": "markdown",
   "id": "e8d9bf0e-65d0-4370-a6ff-c9b1747334ce",
   "metadata": {},
   "source": [
    "##### Objectives\n",
    "* Create a student database\n",
    "* Print report cards for students\n",
    "* Add a student\n",
    "* Add a mark for student "
   ]
  },
  {
   "cell_type": "code",
   "execution_count": 77,
   "id": "3c65162c-2ff3-437d-b873-aa8dd02bb0ff",
   "metadata": {},
   "outputs": [],
   "source": [
    "students = [[\"Ben\", {\"Maths\": 77, \"English\": 78, \"Science\": 90}],\n",
    "           [\"Mark\", {\"Maths\": 56, \"Art\": 95, \"History\": 65, \"Geography\": 55}],\n",
    "           [\"Paul\", {\"English\": 66, \"History\": 88}]]\n",
    "\n",
    "grades = ((0, \"Fail\"), (50, \"D\"), (60, \"C\"), (70, \"B\"), (80, \"A\"), (101, \"Cheat\"))\n"
   ]
  },
  {
   "cell_type": "code",
   "execution_count": 78,
   "id": "1af88fee-e09e-4856-a947-eaa674ca7171",
   "metadata": {},
   "outputs": [],
   "source": [
    "def print_report_card(report_student=None):\n",
    "    for student in students:\n",
    "        if (student[0] == report_student) or (report_student == None):\n",
    "            print(\"Report card for student: \", student[0])\n",
    "            for subject, mark in student[1].items():\n",
    "                for grade in grades:\n",
    "                    if mark < grade[0]:\n",
    "                        print(subject, \" : \", prev_grade)\n",
    "                        break \n",
    "                    prev_grade = grade[1]"
   ]
  },
  {
   "cell_type": "code",
   "execution_count": 79,
   "id": "e2dcf6fe-3fa9-4fd7-aa8a-5708208cc441",
   "metadata": {},
   "outputs": [
    {
     "name": "stdout",
     "output_type": "stream",
     "text": [
      "Report card for student:  Ben\n",
      "Maths  :  B\n",
      "English  :  B\n",
      "Science  :  A\n",
      "Report card for student:  Mark\n",
      "Maths  :  D\n",
      "Art  :  A\n",
      "History  :  C\n",
      "Geography  :  D\n",
      "Report card for student:  Paul\n",
      "English  :  C\n",
      "History  :  A\n"
     ]
    }
   ],
   "source": [
    "print_report_card()"
   ]
  },
  {
   "cell_type": "code",
   "execution_count": 80,
   "id": "eddd4a4d-4981-4903-a614-16e852ad672b",
   "metadata": {},
   "outputs": [
    {
     "data": {
      "text/plain": [
       "4740296448"
      ]
     },
     "execution_count": 80,
     "metadata": {},
     "output_type": "execute_result"
    }
   ],
   "source": [
    "id(students)"
   ]
  },
  {
   "cell_type": "code",
   "execution_count": 81,
   "id": "f4b811ca-2d20-4644-90fb-f612ec1f21b8",
   "metadata": {},
   "outputs": [],
   "source": [
    "def add_student(student_name):\n",
    "    global students # You will get access to the latest updates to the students databse from memory\n",
    "    for student in students: \n",
    "        if student[0] == student_name:\n",
    "            return \"Studend already in database\"\n",
    "        students.append([student_name, {}])\n",
    "        return \"Student added succesfully\""
   ]
  },
  {
   "cell_type": "code",
   "execution_count": 82,
   "id": "2b5e48ee-5ef2-423b-a7d5-ae8d18f8a2e9",
   "metadata": {},
   "outputs": [
    {
     "data": {
      "text/plain": [
       "'Student added succesfully'"
      ]
     },
     "execution_count": 82,
     "metadata": {},
     "output_type": "execute_result"
    }
   ],
   "source": [
    "add_student(\"Jack\")"
   ]
  },
  {
   "cell_type": "code",
   "execution_count": 83,
   "id": "ee5923a3-046a-476a-8a89-78e17ecd6a13",
   "metadata": {},
   "outputs": [
    {
     "data": {
      "text/plain": [
       "[['Ben', {'Maths': 77, 'English': 78, 'Science': 90}],\n",
       " ['Mark', {'Maths': 56, 'Art': 95, 'History': 65, 'Geography': 55}],\n",
       " ['Paul', {'English': 66, 'History': 88}],\n",
       " ['Jack', {}]]"
      ]
     },
     "execution_count": 83,
     "metadata": {},
     "output_type": "execute_result"
    }
   ],
   "source": [
    "students"
   ]
  },
  {
   "cell_type": "code",
   "execution_count": 84,
   "id": "0cf52175-83ad-4d31-9c7d-a1ff068f239e",
   "metadata": {},
   "outputs": [
    {
     "data": {
      "text/plain": [
       "[['Ben', {'Maths': 77, 'English': 78, 'Science': 90}],\n",
       " ['Mark', {'Maths': 56, 'Art': 95, 'History': 65, 'Geography': 55}],\n",
       " ['Paul', {'English': 66, 'History': 88}],\n",
       " ['Jack', {}]]"
      ]
     },
     "execution_count": 84,
     "metadata": {},
     "output_type": "execute_result"
    }
   ],
   "source": [
    "students"
   ]
  },
  {
   "cell_type": "code",
   "execution_count": null,
   "id": "3685b7bd-fc8d-44a1-bc8a-432b5939f2e4",
   "metadata": {},
   "outputs": [
    {
     "name": "stdout",
     "output_type": "stream",
     "text": [
      "Welcome to the student database\n",
      "What can I help you with?\n",
      "Enter 1 to view all report cards\n",
      "Enter 2 to view the report card for a student\n",
      "Enter 3 to add a student\n",
      "Enter 4 to add a mark for student\n",
      "Enter 5 to exit\n"
     ]
    },
    {
     "name": "stdin",
     "output_type": "stream",
     "text": [
      "Choice:  1\n"
     ]
    },
    {
     "name": "stdout",
     "output_type": "stream",
     "text": [
      "Report card for student:  Ben\n",
      "Maths  :  B\n",
      "English  :  B\n",
      "Science  :  A\n",
      "Report card for student:  Mark\n",
      "Maths  :  D\n",
      "Art  :  A\n",
      "History  :  C\n",
      "Geography  :  D\n",
      "Report card for student:  Paul\n",
      "English  :  C\n",
      "History  :  A\n",
      "Report card for student:  Jack\n"
     ]
    },
    {
     "name": "stdin",
     "output_type": "stream",
     "text": [
      "Press enter to continue 2\n"
     ]
    },
    {
     "name": "stdout",
     "output_type": "stream",
     "text": [
      "Welcome to the student database\n",
      "What can I help you with?\n",
      "Enter 1 to view all report cards\n",
      "Enter 2 to view the report card for a student\n",
      "Enter 3 to add a student\n",
      "Enter 4 to add a mark for student\n",
      "Enter 5 to exit\n"
     ]
    },
    {
     "name": "stdin",
     "output_type": "stream",
     "text": [
      "Choice:  2\n",
      "Which Student?  Jack\n"
     ]
    },
    {
     "name": "stdout",
     "output_type": "stream",
     "text": [
      "Report card for student:  Jack\n",
      "None\n"
     ]
    },
    {
     "name": "stdin",
     "output_type": "stream",
     "text": [
      "Press enter to continue 2\n"
     ]
    },
    {
     "name": "stdout",
     "output_type": "stream",
     "text": [
      "Welcome to the student database\n",
      "What can I help you with?\n",
      "Enter 1 to view all report cards\n",
      "Enter 2 to view the report card for a student\n",
      "Enter 3 to add a student\n",
      "Enter 4 to add a mark for student\n",
      "Enter 5 to exit\n"
     ]
    },
    {
     "name": "stdin",
     "output_type": "stream",
     "text": [
      "Choice:  2\n",
      "Which Student?  Ben\n"
     ]
    },
    {
     "name": "stdout",
     "output_type": "stream",
     "text": [
      "Report card for student:  Ben\n",
      "Maths  :  B\n",
      "English  :  B\n",
      "Science  :  A\n",
      "None\n"
     ]
    }
   ],
   "source": [
    "while True:\n",
    "    print(\"Welcome to the student database\")\n",
    "    print(\"What can I help you with?\")\n",
    "    print(\"Enter 1 to view all report cards\")\n",
    "    print(\"Enter 2 to view the report card for a student\")\n",
    "    print(\"Enter 3 to add a student\")\n",
    "    print(\"Enter 4 to add a mark for student\")\n",
    "    print(\"Enter 5 to exit\")\n",
    "    \n",
    "    try:\n",
    "        user_choice = int(input(\"Choice: \"))\n",
    "    except ValueError:\n",
    "        print(\"That's not an number I recognize\")\n",
    "        user_choice = 0\n",
    "    \n",
    "    if user_choice == 1:\n",
    "        print_report_card()\n",
    "    elif user_choice == 2:\n",
    "        enter_student = input(\"Which Student? \")\n",
    "        print(print_report_card(enter_student))\n",
    "    elif user_choice == 3:\n",
    "        enter_student = input(\"Student Name? \")\n",
    "        print(add_student(enter_student))\n",
    "    elif user_choice == 4:\n",
    "        enter_student = input(\"Student Name? \")\n",
    "        enter_subject = input(\"Subject? \")\n",
    "        num_error = True\n",
    "        while num_error:\n",
    "            num_error = False\n",
    "            try:\n",
    "                enter_mark = int(input(\"Mark? \"))\n",
    "            except ValueError:\n",
    "                print(\"I don't recognize that as a number\")\n",
    "                num_error = True\n",
    "        print(add_mark(enter_student, enter_subject, enter_mark))\n",
    "    elif user_choice == 5:\n",
    "        break\n",
    "    else:\n",
    "        print(\"Unknown choice\")\n",
    "    input(\"Press enter to continue\")\n",
    "print(\"Thanks for using the student database\")"
   ]
  }
 ],
 "metadata": {
  "kernelspec": {
   "display_name": "Python 3 (ipykernel)",
   "language": "python",
   "name": "python3"
  },
  "language_info": {
   "codemirror_mode": {
    "name": "ipython",
    "version": 3
   },
   "file_extension": ".py",
   "mimetype": "text/x-python",
   "name": "python",
   "nbconvert_exporter": "python",
   "pygments_lexer": "ipython3",
   "version": "3.11.7"
  }
 },
 "nbformat": 4,
 "nbformat_minor": 5
}
