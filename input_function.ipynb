{
 "cells": [
  {
   "cell_type": "markdown",
   "id": "50c49c5e-d55d-4756-8ca1-1559c8277aca",
   "metadata": {},
   "source": [
    "### Input (fuction)\n",
    "The input from the user will be returned as a string without any changes "
   ]
  },
  {
   "cell_type": "code",
   "execution_count": 2,
   "id": "c529bcb5-7e00-45ac-8eb1-f2f60427e957",
   "metadata": {},
   "outputs": [
    {
     "name": "stdin",
     "output_type": "stream",
     "text": [
      "What's your name?  Usman \n"
     ]
    },
    {
     "name": "stdout",
     "output_type": "stream",
     "text": [
      "Nice to meet you Usman !\n"
     ]
    }
   ],
   "source": [
    "name = input(\"What's your name? \") \n",
    "print(\"Nice to meet you \" + name + \"!\")"
   ]
  },
  {
   "cell_type": "code",
   "execution_count": 13,
   "id": "e635d066-f538-40f3-ae59-d780187d203e",
   "metadata": {},
   "outputs": [
    {
     "name": "stdin",
     "output_type": "stream",
     "text": [
      "Your age?  31\n"
     ]
    },
    {
     "name": "stdout",
     "output_type": "stream",
     "text": [
      "So, you are already  31  years old,  Usman  !\n"
     ]
    }
   ],
   "source": [
    "age = (input(\"Your age? \"))\n",
    "print(\"So, you are already \", age , \" years old, \", name, \"!\")"
   ]
  },
  {
   "cell_type": "markdown",
   "id": "0e09812c-4d7a-4b18-9d74-09c8ecc3b617",
   "metadata": {},
   "source": [
    "number1 = int(input(\"Enter Number 1 \"))\n",
    "number2 = int(input(\"Enter Number 2 \"))\n",
    "print(\"Additon is \", (number1 + number2))\n",
    "print(\"Subtraction is \", (number1 - number2))\n"
   ]
  },
  {
   "cell_type": "markdown",
   "id": "3a43241e-022c-4115-99fd-9d05be175e25",
   "metadata": {},
   "source": [
    "rpa : Robotic process automation\n"
   ]
  },
  {
   "cell_type": "markdown",
   "id": "f8f8f979-8e16-4ef7-a5c1-19e39e8da880",
   "metadata": {},
   "source": [
    "#### Basic Input \n",
    "Asks for the user's name and prints a greeting"
   ]
  },
  {
   "cell_type": "code",
   "execution_count": 20,
   "id": "89a045a0-d04d-468d-9a09-86e6c7021062",
   "metadata": {},
   "outputs": [
    {
     "name": "stdin",
     "output_type": "stream",
     "text": [
      "Enter your name:  Sunny\n"
     ]
    },
    {
     "name": "stdout",
     "output_type": "stream",
     "text": [
      "Hello, Sunny\n"
     ]
    }
   ],
   "source": [
    "name = input(\"Enter your name: \")\n",
    "print(f\"Hello, {name}\") "
   ]
  },
  {
   "cell_type": "markdown",
   "id": "329b5814-de99-495f-ada1-cf3925432e06",
   "metadata": {},
   "source": [
    "The print statement can also handle the formatted string (f\"Hello,{name"
   ]
  },
  {
   "cell_type": "markdown",
   "id": "e3133994-40f6-4f13-bae1-f9649ba0309c",
   "metadata": {},
   "source": [
    "#### Numeric Input\n",
    "\n",
    "Requesrts an age from the user and calculates the age next year\n"
   ]
  },
  {
   "cell_type": "code",
   "execution_count": 21,
   "id": "3147f2d5-84ef-4e08-baab-56ac18708b60",
   "metadata": {},
   "outputs": [
    {
     "name": "stdin",
     "output_type": "stream",
     "text": [
      "How old are you?  31\n"
     ]
    },
    {
     "name": "stdout",
     "output_type": "stream",
     "text": [
      "Next year, you will be 32 years old.\n"
     ]
    }
   ],
   "source": [
    "age = int(input(\"How old are you? \"))\n",
    "print(f\"Next year, you will be {age + 1} years old.\")"
   ]
  },
  {
   "cell_type": "markdown",
   "id": "de835e57-3816-4a04-a2fa-4ab827b02506",
   "metadata": {},
   "source": [
    "#### Multiple Inputs \n",
    "Collects a series of inputs to for a complete address "
   ]
  },
  {
   "cell_type": "code",
   "execution_count": 26,
   "id": "c79400c5-bb77-47c1-a19a-ac1c04f5ac1a",
   "metadata": {},
   "outputs": [
    {
     "name": "stdin",
     "output_type": "stream",
     "text": [
      "Street?  123 street\n",
      "City:  ashburn\n",
      "State:  va\n",
      "Zip:  20147\n"
     ]
    },
    {
     "name": "stdout",
     "output_type": "stream",
     "text": [
      "Address: 123 street, ashburn, va, 20147\n"
     ]
    }
   ],
   "source": [
    "street = input(\"Street? \")\n",
    "city = input(\"City: \") \n",
    "state = input(\"State: \")\n",
    "zipCode = input(\"Zip: \")\n",
    "address = f\"{street}, {city}, {state}, {zipCode}\"\n",
    "print(f\"Address: {address}\")"
   ]
  },
  {
   "cell_type": "code",
   "execution_count": null,
   "id": "e70a3ab6-003b-48ac-a1f0-322a5c095959",
   "metadata": {},
   "outputs": [],
   "source": []
  }
 ],
 "metadata": {
  "kernelspec": {
   "display_name": "Python 3 (ipykernel)",
   "language": "python",
   "name": "python3"
  },
  "language_info": {
   "codemirror_mode": {
    "name": "ipython",
    "version": 3
   },
   "file_extension": ".py",
   "mimetype": "text/x-python",
   "name": "python",
   "nbconvert_exporter": "python",
   "pygments_lexer": "ipython3",
   "version": "3.11.7"
  }
 },
 "nbformat": 4,
 "nbformat_minor": 5
}
