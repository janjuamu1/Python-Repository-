{
 "cells": [
  {
   "cell_type": "markdown",
   "id": "5e58ba8d-9f4d-4760-8677-5b1fa81ed962",
   "metadata": {},
   "source": [
    "#### Loops \n",
    "Python supplies two different kinds of loops:\n",
    "* while <condition>\n",
    "* for loop"
   ]
  },
  {
   "cell_type": "markdown",
   "id": "b17ce16e-1216-4055-b200-a513b3bc22d7",
   "metadata": {},
   "source": [
    "#### `while` loop"
   ]
  },
  {
   "cell_type": "code",
   "execution_count": 1,
   "id": "c96226f9-f0cb-4fc1-98c4-bfe5f2557a89",
   "metadata": {},
   "outputs": [
    {
     "name": "stdin",
     "output_type": "stream",
     "text": [
      "Type something (or 'quit' to exit):  hi\n"
     ]
    },
    {
     "name": "stdout",
     "output_type": "stream",
     "text": [
      "You typed: hi\n"
     ]
    },
    {
     "name": "stdin",
     "output_type": "stream",
     "text": [
      "Type something (or 'quit' to exit):  hey\n"
     ]
    },
    {
     "name": "stdout",
     "output_type": "stream",
     "text": [
      "You typed: hey\n"
     ]
    },
    {
     "name": "stdin",
     "output_type": "stream",
     "text": [
      "Type something (or 'quit' to exit):  whatsuo \n"
     ]
    },
    {
     "name": "stdout",
     "output_type": "stream",
     "text": [
      "You typed: whatsuo \n"
     ]
    },
    {
     "name": "stdin",
     "output_type": "stream",
     "text": [
      "Type something (or 'quit' to exit):  quit\n"
     ]
    }
   ],
   "source": [
    "'''\n",
    "while <condition>:\n",
    "    <statement>\n",
    "'''\n",
    "while True:\n",
    "    response = input(\"Type something (or 'quit' to exit): \")\n",
    "    if response.lower() == 'quit':\n",
    "        break # exits from the loop entirely \n",
    "    print(f\"You typed: {response}\")"
   ]
  },
  {
   "cell_type": "markdown",
   "id": "2e327d68-b23e-4db1-895c-b53eb1a1ce00",
   "metadata": {},
   "source": [
    "#### Using `while` loop, write a python script to calculate the sum of numbers from 1 to 100"
   ]
  },
  {
   "cell_type": "code",
   "execution_count": 11,
   "id": "e3984955-7ac0-41a4-9808-06ec3d68c004",
   "metadata": {},
   "outputs": [
    {
     "ename": "SyntaxError",
     "evalue": "invalid syntax. Perhaps you forgot a comma? (3713306504.py, line 7)",
     "output_type": "error",
     "traceback": [
      "\u001b[0;36m  Cell \u001b[0;32mIn[11], line 7\u001b[0;36m\u001b[0m\n\u001b[0;31m    print(\"Sum of 1 until \" + str(n) + \" results in \" str(totalSum))\u001b[0m\n\u001b[0m          ^\u001b[0m\n\u001b[0;31mSyntaxError\u001b[0m\u001b[0;31m:\u001b[0m invalid syntax. Perhaps you forgot a comma?\n"
     ]
    }
   ],
   "source": [
    "n = 100\n",
    "totalSum = 0 \n",
    "counter = 1 \n",
    "while (counter <= n):\n",
    "    totalSum = totalSum + counter \n",
    "    counter = counter + 1 \n",
    "print(\"Sum of 1 until \" + str(n) + \" results in \" str(totalSum))  "
   ]
  },
  {
   "cell_type": "markdown",
   "id": "cfc22509-ed0e-451e-adf1-6f35a7c67c76",
   "metadata": {},
   "source": [
    "#### using `random` package in python build a number guessing game \n",
    "* Generate a random number between 1 and 20\n",
    "* Ask the user to guess that number use a while loop\n",
    "* After successful guess, exit from the while loop"
   ]
  },
  {
   "cell_type": "code",
   "execution_count": 13,
   "id": "0cc7935e-ab50-4773-aa93-d2fb31914eaa",
   "metadata": {},
   "outputs": [
    {
     "name": "stdin",
     "output_type": "stream",
     "text": [
      "New Number:  54\n"
     ]
    },
    {
     "name": "stdout",
     "output_type": "stream",
     "text": [
      "Number too large\n"
     ]
    },
    {
     "name": "stdin",
     "output_type": "stream",
     "text": [
      "New Number:  23\n"
     ]
    },
    {
     "name": "stdout",
     "output_type": "stream",
     "text": [
      "Number too large\n"
     ]
    },
    {
     "name": "stdin",
     "output_type": "stream",
     "text": [
      "New Number:  21\n"
     ]
    },
    {
     "name": "stdout",
     "output_type": "stream",
     "text": [
      "Number too large\n"
     ]
    },
    {
     "name": "stdin",
     "output_type": "stream",
     "text": [
      "New Number:  15\n"
     ]
    },
    {
     "name": "stdout",
     "output_type": "stream",
     "text": [
      "Number too small\n"
     ]
    },
    {
     "name": "stdin",
     "output_type": "stream",
     "text": [
      "New Number:  26\n"
     ]
    },
    {
     "name": "stdout",
     "output_type": "stream",
     "text": [
      "Number too large\n"
     ]
    },
    {
     "name": "stdin",
     "output_type": "stream",
     "text": [
      "New Number:  27\n"
     ]
    },
    {
     "name": "stdout",
     "output_type": "stream",
     "text": [
      "Number too large\n"
     ]
    },
    {
     "name": "stdin",
     "output_type": "stream",
     "text": [
      "New Number:  20\n"
     ]
    },
    {
     "name": "stdout",
     "output_type": "stream",
     "text": [
      "Number too large\n"
     ]
    },
    {
     "name": "stdin",
     "output_type": "stream",
     "text": [
      "New Number:  17\n"
     ]
    },
    {
     "name": "stdout",
     "output_type": "stream",
     "text": [
      "Number too small\n"
     ]
    },
    {
     "name": "stdin",
     "output_type": "stream",
     "text": [
      "New Number:  18\n"
     ]
    },
    {
     "name": "stdout",
     "output_type": "stream",
     "text": [
      "You made it!!!! It took you {attempts} attempts\n"
     ]
    }
   ],
   "source": [
    "import random \n",
    "upperLimit = 20\n",
    "lowerLimit = 1 \n",
    "numberToBeGuessed = random.randint(lowerLimit,upperLimit)\n",
    "guess = 0 \n",
    "attempts = 0\n",
    "while (guess != numberToBeGuessed):\n",
    "    guess = int(input(\"New Number: \"))\n",
    "    attempts = attempts + 1\n",
    "    if guess > 0:\n",
    "        if guess > numberToBeGuessed:\n",
    "            print(\"Number too large\")\n",
    "        elif guess < numberToBeGuessed:\n",
    "            print(\"Number too small\")\n",
    "    else:\n",
    "        print(\"Sorry, you are giving up\")\n",
    "        break\n",
    "else:\n",
    "    print(\"You made it!!!! It took you {attempts} attempts\")\n"
   ]
  },
  {
   "cell_type": "markdown",
   "id": "58d54158-1605-439c-93eb-b1e623952dca",
   "metadata": {},
   "source": [
    "#### Infinite Loop "
   ]
  },
  {
   "cell_type": "code",
   "execution_count": null,
   "id": "1b963d85-e0c2-44ec-9fb6-7cf55d10b59c",
   "metadata": {},
   "outputs": [],
   "source": [
    "while True: \n",
    "    print(\"This will print forever unless interrupted\")\n",
    "    break # to avoid an actual infinite loop "
   ]
  },
  {
   "cell_type": "markdown",
   "id": "b90c6946-acee-4f77-ab6e-35455e142b5d",
   "metadata": {},
   "source": [
    "This will print forver unless interrupted \n"
   ]
  },
  {
   "cell_type": "markdown",
   "id": "d82475b3-f728-4483-b4ca-0a9a550e6558",
   "metadata": {},
   "source": [
    "#### Matplotlib examples:\n",
    "Plotting points in a while loop "
   ]
  },
  {
   "cell_type": "code",
   "execution_count": 12,
   "id": "f8bbcaf5-2456-453e-b726-b8bc666dd152",
   "metadata": {},
   "outputs": [
    {
     "data": {
      "text/plain": [
       "<function matplotlib.pyplot.show(close=None, block=None)>"
      ]
     },
     "execution_count": 12,
     "metadata": {},
     "output_type": "execute_result"
    },
    {
     "data": {
      "image/png": "[encoded data removed]",
      "text/plain": [
       "<Figure size 640x480 with 1 Axes>"
      ]
     },
     "metadata": {},
     "output_type": "display_data"
    }
   ],
   "source": [
    "import matplotlib.pyplot as plt # plt is an alias\n",
    "x, y = 0,0 # x and y variables \n",
    "step = .5\n",
    "i = 0 \n",
    "\n",
    "plt.figure()\n",
    "\n",
    "while (i < 10):\n",
    "    plt.plot(x,y,'bo') # 'bo' create a blue circle \n",
    "    x += step # This is similar to x = x + step \n",
    "    y += step # This is similar to y = y + step \n",
    "    i += 1 # Similar to i = i + 1 \n",
    "\n",
    "plt.title(\"Moving Points\")\n",
    "plt.xlabel('X')\n",
    "plt.ylabel('Y')\n",
    "plt.show"
   ]
  },
  {
   "cell_type": "markdown",
   "id": "878bc472-a6c6-4060-b735-e6a06152b8d0",
   "metadata": {},
   "source": [
    "#### Dynamic plot update\n",
    "In this example, the sine wave is animated updating the y-values in each iteration"
   ]
  },
  {
   "cell_type": "code",
   "execution_count": 7,
   "id": "5568690c-17f4-49db-bbb4-08c9c0b6afba",
   "metadata": {},
   "outputs": [
    {
     "data": {
      "image/png": "[encoded data removed]",
      "text/plain": [
       "<Figure size 640x480 with 1 Axes>"
      ]
     },
     "metadata": {},
     "output_type": "display_data"
    }
   ],
   "source": [
    "import matplotlib.pyplot as plt\n",
    "import numpy as np \n",
    "\n",
    "x = np.linspace(0, 2 * np.pi, 10)\n",
    "y = np.sin(x)\n",
    "plt.ion() # Turn on interactive mode \n",
    "\n",
    "fig, ax = plt.subplots()\n",
    "line, = ax.plot(x, y)\n",
    "\n",
    "i = 0\n",
    "while (i < 50):\n",
    "    y =np.sin(x + i * 0.1)\n",
    "    line.set_ydata(y)\n",
    "    fig.canvas.draw()\n",
    "    fig.canvas.flush_events()\n",
    "    i +=1 "
   ]
  },
  {
   "cell_type": "markdown",
   "id": "d7f405ff-c162-439a-801d-7f521d37cae8",
   "metadata": {},
   "source": [
    "#### For loops \n",
    "A for loop is the most popular type of loop in programming. This is used for iterating over a sequence (list, tuple, string, or range) or other iterable objects "
   ]
  },
  {
   "cell_type": "code",
   "execution_count": 15,
   "id": "47c195f6-747f-4bf5-94f3-8080bedfe902",
   "metadata": {},
   "outputs": [
    {
     "name": "stdout",
     "output_type": "stream",
     "text": [
      "1\n",
      "2\n",
      "3\n",
      "4\n",
      "5\n",
      "6\n"
     ]
    }
   ],
   "source": [
    "''' \n",
    "for <variable> in <sequence>:\n",
    "    <statements>\n",
    "else:\n",
    "    <statements>\n",
    "''' \n",
    "lstOfNumbers = [1,2,3,4,5,6]\n",
    "\n",
    "for x in lstOfNumbers:\n",
    "    print(x) \n"
   ]
  },
  {
   "cell_type": "code",
   "execution_count": 16,
   "id": "66088976-5247-4019-934b-10d785a2c899",
   "metadata": {},
   "outputs": [
    {
     "name": "stdout",
     "output_type": "stream",
     "text": [
      "C\n",
      "C++\n",
      "Perl\n",
      "Python\n"
     ]
    }
   ],
   "source": [
    "languages = [\"C\", \"C++\", \"Perl\", \"Python\"]\n",
    "for x in languages:\n",
    "    print(x)"
   ]
  },
  {
   "cell_type": "code",
   "execution_count": 19,
   "id": "acbf12d8-8dc3-4eb1-b28e-e188458c8802",
   "metadata": {},
   "outputs": [
    {
     "name": "stdout",
     "output_type": "stream",
     "text": [
      "Great, delicious ham\n",
      "No more spam please!\n",
      "Finally, I finished stuffing myself\n"
     ]
    }
   ],
   "source": [
    "edibles = [\"ham\", \"spam\", \"eggs\", \"nuts\"]\n",
    "for food in edibles:\n",
    "    if food == \"spam\": \n",
    "        print(\"No more spam please!\")\n",
    "        break \n",
    "    print(\"Great, delicious \" + food)\n",
    "else:\n",
    "    print(\"I am so glad: No Spam\")\n",
    "print (\"Finally, I finished stuffing myself\")"
   ]
  },
  {
   "cell_type": "markdown",
   "id": "9f73235f-a014-496b-976a-5af10bda3897",
   "metadata": {},
   "source": [
    "#### The 'range()' function \n",
    "This is a built-in function used to iterate over a sequence of numbers. It generate an iterator of aritmethic progressions\n"
   ]
  },
  {
   "cell_type": "code",
   "execution_count": 20,
   "id": "64af7e6f-f265-49fb-819f-21e247ae6be3",
   "metadata": {},
   "outputs": [
    {
     "data": {
      "text/plain": [
       "range(0, 5)"
      ]
     },
     "execution_count": 20,
     "metadata": {},
     "output_type": "execute_result"
    }
   ],
   "source": [
    "range(5) # Output for this function is 0, 1, 2, 3, 4 "
   ]
  },
  {
   "cell_type": "code",
   "execution_count": 22,
   "id": "fc17742f-88b6-4c7e-a077-4a6226ceccb6",
   "metadata": {},
   "outputs": [
    {
     "name": "stdout",
     "output_type": "stream",
     "text": [
      "0\n",
      "1\n",
      "2\n",
      "3\n",
      "4\n"
     ]
    }
   ],
   "source": [
    "for i in range(5):\n",
    "    print(i)"
   ]
  },
  {
   "cell_type": "code",
   "execution_count": 23,
   "id": "7deffefc-b34b-4793-bab5-53c76d5db598",
   "metadata": {},
   "outputs": [
    {
     "data": {
      "text/plain": [
       "range(4, 10)"
      ]
     },
     "execution_count": 23,
     "metadata": {},
     "output_type": "execute_result"
    }
   ],
   "source": [
    "range(4,10) # Output is 4, 5, 6, 7, 8, 9"
   ]
  },
  {
   "cell_type": "code",
   "execution_count": 24,
   "id": "f2fd1430-875a-463c-bef6-89331c563670",
   "metadata": {},
   "outputs": [
    {
     "name": "stdout",
     "output_type": "stream",
     "text": [
      "4\n",
      "5\n",
      "6\n",
      "7\n",
      "8\n",
      "9\n"
     ]
    }
   ],
   "source": [
    "for i in range(4,10):\n",
    "    print(i)"
   ]
  },
  {
   "cell_type": "markdown",
   "id": "96ff53c3-e36c-45a4-a8ee-5660639e8914",
   "metadata": {},
   "source": [
    "range(begin,end,step)\n"
   ]
  },
  {
   "cell_type": "code",
   "execution_count": 26,
   "id": "69650581-e41a-4391-aa4d-56da0312ea79",
   "metadata": {},
   "outputs": [
    {
     "name": "stdout",
     "output_type": "stream",
     "text": [
      "10\n",
      "9\n",
      "8\n",
      "7\n",
      "6\n",
      "5\n",
      "4\n",
      "3\n",
      "2\n",
      "1\n"
     ]
    }
   ],
   "source": [
    "# This is used for decreasing counters or reverse indexing \n",
    "for i in range(10, 0, -1):\n",
    "    print(i)"
   ]
  },
  {
   "cell_type": "code",
   "execution_count": null,
   "id": "949f428e-141c-44cf-bed9-52da8c7e2c77",
   "metadata": {},
   "outputs": [],
   "source": []
  },
  {
   "cell_type": "code",
   "execution_count": 27,
   "id": "29b9d0b0-3be8-4212-b0c5-b4c9cee819c7",
   "metadata": {},
   "outputs": [
    {
     "name": "stdout",
     "output_type": "stream",
     "text": [
      "0\n",
      "5\n",
      "10\n",
      "15\n",
      "20\n",
      "25\n",
      "30\n",
      "35\n",
      "40\n",
      "45\n",
      "50\n",
      "55\n",
      "60\n",
      "65\n",
      "70\n",
      "75\n",
      "80\n",
      "85\n",
      "90\n",
      "95\n"
     ]
    }
   ],
   "source": [
    "# Skipping Numbers \n",
    "for i in range(0,100,5):\n",
    "    print(i) #prints multiples of 5 from 0 to 95 "
   ]
  },
  {
   "cell_type": "code",
   "execution_count": 34,
   "id": "619ca3aa-24ca-49cd-89ce-822aa73e4f12",
   "metadata": {},
   "outputs": [
    {
     "name": "stdout",
     "output_type": "stream",
     "text": [
      "0 New York\n",
      "1 Boston\n",
      "2 Cincinatti\n",
      "3 Detroit\n"
     ]
    }
   ],
   "source": [
    "lstCities = [\"New York\", \"Boston\", \"Cincinatti\", \"Detroit\"]\n",
    "for city in range(len(lstCities)):\n",
    "    print(city, lstCities[city])"
   ]
  },
  {
   "cell_type": "code",
   "execution_count": 33,
   "id": "2aa39fb8-a509-421d-a614-42810a4085c3",
   "metadata": {},
   "outputs": [
    {
     "data": {
      "text/plain": [
       "'Boston'"
      ]
     },
     "execution_count": 33,
     "metadata": {},
     "output_type": "execute_result"
    }
   ],
   "source": [
    "lstCities[1]"
   ]
  },
  {
   "cell_type": "markdown",
   "id": "33a5385a-80e3-424b-8927-2913de472e0f",
   "metadata": {},
   "source": [
    "#### Generate a fibonacci sequence using a while loop"
   ]
  },
  {
   "cell_type": "code",
   "execution_count": 40,
   "id": "095838f5-eb6a-4a20-9dca-eba7c8056bf9",
   "metadata": {},
   "outputs": [
    {
     "name": "stdout",
     "output_type": "stream",
     "text": [
      "0 1 1 2 3 5 8 13 21 34 \n"
     ]
    }
   ],
   "source": [
    "# 0, 1, 1, 2, 3, 5, 8\n",
    "a = 0 \n",
    "b = 1\n",
    "count = 0\n",
    "maxCount = 5\n",
    "while (count < maxCount):\n",
    "    count += 1\n",
    "    print(a, b, end=\" \") # This keeps the print function from creating a new line \n",
    "    a = a + b # 1, 3\n",
    "    b = a + b # 2, 5 \n",
    "print()"
   ]
  },
  {
   "cell_type": "markdown",
   "id": "51f950d2-5e58-4e7e-9e0d-f0f288dcfe20",
   "metadata": {},
   "source": [
    "#### Exercise: Generate and print the first n numbers in the fibonacci sequence using a for loop"
   ]
  },
  {
   "cell_type": "code",
   "execution_count": 43,
   "id": "68901722-ab71-402e-b749-94132ba2b948",
   "metadata": {},
   "outputs": [
    {
     "name": "stdin",
     "output_type": "stream",
     "text": [
      "Enter a number of Fibonacci numbers to generate:  5\n"
     ]
    },
    {
     "name": "stdout",
     "output_type": "stream",
     "text": [
      "Debug:  1\n",
      "Debug:  2\n",
      "Debug:  3\n"
     ]
    },
    {
     "data": {
      "text/plain": [
       "[0, 1, 1, 2, 3]"
      ]
     },
     "execution_count": 43,
     "metadata": {},
     "output_type": "execute_result"
    }
   ],
   "source": [
    "0, 1, 1, 2, 3, 5, 8, 13, 21, 34\n",
    "n = int(input(\"Enter a number of Fibonacci numbers to generate: \"))\n",
    "fibSequence = [0,1] # Starting sequence\n",
    "for i in range(2,n):\n",
    "    newNumber = fibSequence[-1] + fibSequence[-2] # 1\n",
    "    print(\"Debug: \", newNumber) # 1 \n",
    "    fibSequence.append(newNumber)\n",
    "\n",
    "fibSequence"
   ]
  },
  {
   "cell_type": "markdown",
   "id": "0e72631d-ecbb-4812-950e-c273b4db6fb5",
   "metadata": {},
   "source": [
    "#### 'timeit' operations"
   ]
  },
  {
   "cell_type": "code",
   "execution_count": 46,
   "id": "a7317bf7-ddfc-4ed1-a5df-324a5a87d8d2",
   "metadata": {},
   "outputs": [
    {
     "name": "stdout",
     "output_type": "stream",
     "text": [
      "Time with range() and len(): 0.160372958984226 seconds\n"
     ]
    }
   ],
   "source": [
    "import timeit\n",
    "# Setup the list and the loop that uses range() and len()\n",
    "code1 = \"\"\"\n",
    "lst = list(range(1000)) \n",
    "\"\"\"\n",
    "\n",
    "code2 = \"\"\"\n",
    "for i in range (len(lst)):\n",
    "    item = lst[i] \n",
    "\"\"\"\n",
    "\n",
    "timeExecution = timeit.timeit(stmt=code2, setup=code1, number=10000)\n",
    "print(f\"Time with range() and len(): {timeExecution} seconds\") "
   ]
  },
  {
   "cell_type": "code",
   "execution_count": null,
   "id": "b0101d4a-59dc-4700-8860-658709cb5bc3",
   "metadata": {},
   "outputs": [],
   "source": []
  }
 ],
 "metadata": {
  "kernelspec": {
   "display_name": "Python 3 (ipykernel)",
   "language": "python",
   "name": "python3"
  },
  "language_info": {
   "codemirror_mode": {
    "name": "ipython",
    "version": 3
   },
   "file_extension": ".py",
   "mimetype": "text/x-python",
   "name": "python",
   "nbconvert_exporter": "python",
   "pygments_lexer": "ipython3",
   "version": "3.11.7"
  }
 },
 "nbformat": 4,
 "nbformat_minor": 5
}
