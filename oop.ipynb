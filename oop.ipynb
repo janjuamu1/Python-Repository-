{
 "cells": [
  {
   "cell_type": "markdown",
   "id": "4849b0fb",
   "metadata": {},
   "source": [
    "#### OOP - Object Oriented Programming\n",
    "OOAD - Objected oriented analysis and design\n",
    "OOP is a standard design practice for Programming. Python is a an OOP language. \n",
    "There are following major principles of OOP and the way Python deals with them.\n",
    "\n",
    "* Encapsulation\n",
    "* Data Abstraction\n",
    "* Polymorphism\n",
    "* Inheritance \n"
   ]
  },
  {
   "cell_type": "code",
   "execution_count": 89,
   "id": "ad1b9bd6",
   "metadata": {},
   "outputs": [
    {
     "data": {
      "text/plain": [
       "int"
      ]
     },
     "execution_count": 89,
     "metadata": {},
     "output_type": "execute_result"
    }
   ],
   "source": [
    "x = 42\n",
    "type (x)"
   ]
  },
  {
   "cell_type": "code",
   "execution_count": 90,
   "id": "c0a170a0",
   "metadata": {},
   "outputs": [
    {
     "data": {
      "text/plain": [
       "float"
      ]
     },
     "execution_count": 90,
     "metadata": {},
     "output_type": "execute_result"
    }
   ],
   "source": [
    "y = 4.34\n",
    "type (y)"
   ]
  },
  {
   "cell_type": "code",
   "execution_count": 91,
   "id": "ca930ceb",
   "metadata": {},
   "outputs": [
    {
     "data": {
      "text/plain": [
       "function"
      ]
     },
     "execution_count": 91,
     "metadata": {},
     "output_type": "execute_result"
    }
   ],
   "source": [
    "def f(x): return x + 1\n",
    "type(f)"
   ]
  },
  {
   "cell_type": "markdown",
   "id": "452509ca",
   "metadata": {},
   "source": [
    "#### Requirements\n",
    "Manage a small library where you can add books, remove books, and check books availability \n",
    "#### Objects and Classes \n",
    "1. Library\n",
    " * Attributes (Nouns)\n",
    "  1. books(list of Book objects)\n",
    " * Methods (Verbs)\n",
    "  1. addBook(book)\n",
    "  2. removeBook(book)\n",
    "  3. checkAvailability(title)\n",
    " 2. Book\n",
    "  * Attributes(Nouns)\n",
    "  1. title(String)\n",
    "  2. author(String)\n",
    "  3. ISBN (String)\n",
    " * Methods (Verbs)\n",
    " 1. getInfo():returns the books details"
   ]
  },
  {
   "cell_type": "markdown",
   "id": "183c10e6",
   "metadata": {},
   "source": [
    "#### A minimal class in Python \n",
    "We will design and use a robot class in Python as an example to demonstrate the most important terms and objects of Object Orientation "
   ]
  },
  {
   "cell_type": "code",
   "execution_count": 92,
   "id": "024efed3",
   "metadata": {},
   "outputs": [],
   "source": [
    "class Robot:\n",
    "    pass # Do Nothing "
   ]
  },
  {
   "cell_type": "code",
   "execution_count": 93,
   "id": "9d60247b",
   "metadata": {},
   "outputs": [],
   "source": [
    "x = Robot() # Create a new robot object called x\n",
    "    "
   ]
  },
  {
   "cell_type": "code",
   "execution_count": 94,
   "id": "577f8393",
   "metadata": {},
   "outputs": [],
   "source": [
    "y = Robot() # Create a new robot object called y "
   ]
  },
  {
   "cell_type": "code",
   "execution_count": 95,
   "id": "452a4243",
   "metadata": {},
   "outputs": [
    {
     "data": {
      "text/plain": [
       "(4414364880, 4414341776)"
      ]
     },
     "execution_count": 95,
     "metadata": {},
     "output_type": "execute_result"
    }
   ],
   "source": [
    "id(x), id(y)"
   ]
  },
  {
   "cell_type": "code",
   "execution_count": 96,
   "id": "b94f86fa",
   "metadata": {},
   "outputs": [],
   "source": [
    "y2 = y # Cloning of y object to y2"
   ]
  },
  {
   "cell_type": "code",
   "execution_count": 97,
   "id": "01738839",
   "metadata": {},
   "outputs": [
    {
     "data": {
      "text/plain": [
       "(4414364880, 4414341776, 4414341776)"
      ]
     },
     "execution_count": 97,
     "metadata": {},
     "output_type": "execute_result"
    }
   ],
   "source": [
    "id (x), id(y), id(y2)"
   ]
  },
  {
   "cell_type": "code",
   "execution_count": 98,
   "id": "fad79248",
   "metadata": {},
   "outputs": [
    {
     "name": "stdout",
     "output_type": "stream",
     "text": [
      "True\n"
     ]
    }
   ],
   "source": [
    "print(y == y2)"
   ]
  },
  {
   "cell_type": "code",
   "execution_count": 99,
   "id": "9a94610b",
   "metadata": {},
   "outputs": [
    {
     "name": "stdout",
     "output_type": "stream",
     "text": [
      "False\n"
     ]
    }
   ],
   "source": [
    "print (x == y)"
   ]
  },
  {
   "cell_type": "code",
   "execution_count": 100,
   "id": "772ca232",
   "metadata": {},
   "outputs": [],
   "source": [
    "optimus = Robot()"
   ]
  },
  {
   "cell_type": "code",
   "execution_count": 101,
   "id": "821c4da1",
   "metadata": {},
   "outputs": [
    {
     "data": {
      "text/plain": [
       "4415210576"
      ]
     },
     "execution_count": 101,
     "metadata": {},
     "output_type": "execute_result"
    }
   ],
   "source": [
    "id(optimus)"
   ]
  },
  {
   "cell_type": "code",
   "execution_count": 102,
   "id": "ab0f18d5",
   "metadata": {},
   "outputs": [],
   "source": [
    "# Add Attributes on the fly\n",
    "x.name = \"Marvin\"\n",
    "x.buildYear = \"1979\"\n",
    "x.bodyFrame = 'StainLessSteel'"
   ]
  },
  {
   "cell_type": "code",
   "execution_count": 103,
   "id": "d27d8d0d",
   "metadata": {},
   "outputs": [
    {
     "data": {
      "text/plain": [
       "'Marvin'"
      ]
     },
     "execution_count": 103,
     "metadata": {},
     "output_type": "execute_result"
    }
   ],
   "source": [
    "x.name "
   ]
  },
  {
   "cell_type": "code",
   "execution_count": 104,
   "id": "700bcdd1",
   "metadata": {},
   "outputs": [
    {
     "data": {
      "text/plain": [
       "'1979'"
      ]
     },
     "execution_count": 104,
     "metadata": {},
     "output_type": "execute_result"
    }
   ],
   "source": [
    "x.buildYear"
   ]
  },
  {
   "cell_type": "markdown",
   "id": "26297904",
   "metadata": {},
   "source": [
    "if you want to know what is happening internally within Python. The instances (x, y robots) posesses dictionaries '_dict_' "
   ]
  },
  {
   "cell_type": "code",
   "execution_count": 105,
   "id": "56d97260",
   "metadata": {},
   "outputs": [
    {
     "data": {
      "text/plain": [
       "{'name': 'Marvin', 'buildYear': '1979', 'bodyFrame': 'StainLessSteel'}"
      ]
     },
     "execution_count": 105,
     "metadata": {},
     "output_type": "execute_result"
    }
   ],
   "source": [
    "x.__dict__"
   ]
  },
  {
   "cell_type": "code",
   "execution_count": 106,
   "id": "b86c6dd8",
   "metadata": {},
   "outputs": [
    {
     "data": {
      "text/plain": [
       "{'name': 'Marvin', 'buildYear': '1979', 'bodyFrame': 'StainLessSteel'}"
      ]
     },
     "execution_count": 106,
     "metadata": {},
     "output_type": "execute_result"
    }
   ],
   "source": [
    "x.__dict__"
   ]
  },
  {
   "cell_type": "code",
   "execution_count": 107,
   "id": "aeb563fb",
   "metadata": {},
   "outputs": [],
   "source": [
    "x.name = 'Kuka'"
   ]
  },
  {
   "cell_type": "markdown",
   "id": "fff6eca6",
   "metadata": {},
   "source": [
    "#### '__init__' Method\n",
    "This is also called as constructors "
   ]
  },
  {
   "cell_type": "code",
   "execution_count": 108,
   "id": "6cbd91f0",
   "metadata": {},
   "outputs": [],
   "source": [
    "class Robot:\n",
    "    def __init__(self):\n",
    "        print(\"__init__ has been executed\") \n",
    "        \n",
    "    "
   ]
  },
  {
   "cell_type": "code",
   "execution_count": 109,
   "id": "6d5824fa",
   "metadata": {},
   "outputs": [
    {
     "name": "stdout",
     "output_type": "stream",
     "text": [
      "__init__ has been executed\n"
     ]
    }
   ],
   "source": [
    "x = Robot() # Created a new x Robot object "
   ]
  },
  {
   "cell_type": "code",
   "execution_count": 110,
   "id": "cb3cd949",
   "metadata": {},
   "outputs": [
    {
     "name": "stdout",
     "output_type": "stream",
     "text": [
      "__init__ has been executed\n"
     ]
    }
   ],
   "source": [
    "z = Robot()"
   ]
  },
  {
   "cell_type": "code",
   "execution_count": 111,
   "id": "d3fd250d",
   "metadata": {},
   "outputs": [],
   "source": [
    "class Robot():\n",
    "    def __init__(self, name, year):\n",
    "        self.name = name \n",
    "        self.year = year\n",
    "    def sayHi(self): # The verb or an Interface Function \n",
    "        if self.name:\n",
    "            print(\"Hi, I am \" + self.name + \" I was built in year \" + self.year)   "
   ]
  },
  {
   "cell_type": "code",
   "execution_count": 112,
   "id": "3ffcbe2e",
   "metadata": {},
   "outputs": [],
   "source": [
    "x = Robot(\"Marvin\", \"2022\")"
   ]
  },
  {
   "cell_type": "code",
   "execution_count": 113,
   "id": "f67315a0",
   "metadata": {},
   "outputs": [
    {
     "name": "stdout",
     "output_type": "stream",
     "text": [
      "Hi, I am Marvin I was built in year 2022\n"
     ]
    }
   ],
   "source": [
    "x.sayHi()"
   ]
  },
  {
   "cell_type": "markdown",
   "id": "3691866c",
   "metadata": {},
   "source": [
    "#### Data Abstraction, Data Encapsulation, and Information Hiding \n",
    "Data Abstraction = Data Encapsulation + Information Hiding "
   ]
  },
  {
   "cell_type": "code",
   "execution_count": 135,
   "id": "50a608a5",
   "metadata": {},
   "outputs": [],
   "source": [
    "class Robot:\n",
    "    def __init__(self, name, year):\n",
    "            self.name = name\n",
    "            self.year = year\n",
    "            \n",
    "    def sayHi(self): # The verb or an Interface function\n",
    "        print(\"Hi I am \" + self.name)\n",
    "        \n",
    "    # Getter and Setter Methods for name\n",
    "    def setName(self, name):\n",
    "        self.name = name\n",
    "        \n",
    "    def getName(self):\n",
    "        return self.name \n",
    "    \n",
    "    def setYear(self, year):\n",
    "        self.year = year\n",
    "        \n",
    "    def getyear(self):\n",
    "        return self.year"
   ]
  },
  {
   "cell_type": "code",
   "execution_count": 136,
   "id": "2b868bc4",
   "metadata": {},
   "outputs": [],
   "source": [
    "x1 = Robot(\"Optimus Prime\", 2020)"
   ]
  },
  {
   "cell_type": "code",
   "execution_count": 137,
   "id": "27a12e1d",
   "metadata": {},
   "outputs": [
    {
     "name": "stdout",
     "output_type": "stream",
     "text": [
      "Hi I am Optimus Prime\n"
     ]
    }
   ],
   "source": [
    "x1.sayHi()"
   ]
  },
  {
   "cell_type": "markdown",
   "id": "c37595e2",
   "metadata": {},
   "source": [
    "In the above code for Robot() Object, you created an Robot with a specific name and year. This was overrubed by using the setter methods, that allow the users to overwrite the name and the year. In OOP, this is not needed as this allows any users to override the original name and year for the Robot object.\n",
    "#### Recreate the above Robot object without the user of Setter Methods"
   ]
  },
  {
   "cell_type": "code",
   "execution_count": 138,
   "id": "01cf87dc",
   "metadata": {},
   "outputs": [],
   "source": [
    "class Robot:\n",
    "    def __init__(self, name, year):\n",
    "            self.name = name\n",
    "            self.year = year\n",
    "            \n",
    "    def sayHi(self): # The verb or an Interface function\n",
    "        print(\"Hi I am \" + self.name)\n",
    "        \n",
    "    # Getter and Setter Methods for name\n",
    "    def setName(self, name):\n",
    "        self.name = name\n",
    "        \n",
    "    def getName(self):\n",
    "        return self.name \n",
    "        \n",
    "    def getyear(self):\n",
    "        return self.year"
   ]
  },
  {
   "cell_type": "code",
   "execution_count": 139,
   "id": "82629ce4",
   "metadata": {},
   "outputs": [],
   "source": [
    "x2 = Robot(\"Optimius Prime\", \"2018\")"
   ]
  },
  {
   "cell_type": "code",
   "execution_count": 140,
   "id": "d3f521d7",
   "metadata": {},
   "outputs": [],
   "source": [
    "x2.setName(\"Giant Robot\") # This will fail and throw an error "
   ]
  },
  {
   "cell_type": "code",
   "execution_count": 141,
   "id": "17fabb00",
   "metadata": {},
   "outputs": [],
   "source": [
    "class Account:\n",
    "    def __init__(self, name, ssn, dob):\n",
    "        self.name = name\n",
    "        self.ssn = ssn\n",
    "        self.dob = dob\n",
    "        self.acctid - uuid.uuid1()\n",
    "        \n",
    "        def getName(self):\n",
    "            return self.name\n",
    "        \n",
    "        def getSSN(self):\n",
    "            return self.ssn\n",
    "        \n",
    "        def getDob(self):\n",
    "            return self.dob\n",
    "        \n",
    "        def getAcctID(self):\n",
    "            return self.acctid\n",
    "        \n",
    "        "
   ]
  },
  {
   "cell_type": "code",
   "execution_count": 142,
   "id": "d7876970",
   "metadata": {},
   "outputs": [
    {
     "ename": "AttributeError",
     "evalue": "'Account' object has no attribute 'acctid'",
     "output_type": "error",
     "traceback": [
      "\u001b[0;31m---------------------------------------------------------------------------\u001b[0m",
      "\u001b[0;31mAttributeError\u001b[0m                            Traceback (most recent call last)",
      "Cell \u001b[0;32mIn[142], line 1\u001b[0m\n\u001b[0;32m----> 1\u001b[0m acctJack \u001b[38;5;241m=\u001b[39m Account(\u001b[38;5;124m\"\u001b[39m\u001b[38;5;124mJack Smith\u001b[39m\u001b[38;5;124m\"\u001b[39m, \u001b[38;5;124m\"\u001b[39m\u001b[38;5;124m123\u001b[39m\u001b[38;5;124m\"\u001b[39m, \u001b[38;5;124m\"\u001b[39m\u001b[38;5;124m10/10/2010\u001b[39m\u001b[38;5;124m\"\u001b[39m)\n",
      "Cell \u001b[0;32mIn[141], line 6\u001b[0m, in \u001b[0;36mAccount.__init__\u001b[0;34m(self, name, ssn, dob)\u001b[0m\n\u001b[1;32m      4\u001b[0m \u001b[38;5;28mself\u001b[39m\u001b[38;5;241m.\u001b[39mssn \u001b[38;5;241m=\u001b[39m ssn\n\u001b[1;32m      5\u001b[0m \u001b[38;5;28mself\u001b[39m\u001b[38;5;241m.\u001b[39mdob \u001b[38;5;241m=\u001b[39m dob\n\u001b[0;32m----> 6\u001b[0m \u001b[38;5;28mself\u001b[39m\u001b[38;5;241m.\u001b[39macctid \u001b[38;5;241m-\u001b[39m uuid\u001b[38;5;241m.\u001b[39muuid1()\n\u001b[1;32m      8\u001b[0m \u001b[38;5;28;01mdef\u001b[39;00m \u001b[38;5;21mgetName\u001b[39m(\u001b[38;5;28mself\u001b[39m):\n\u001b[1;32m      9\u001b[0m     \u001b[38;5;28;01mreturn\u001b[39;00m \u001b[38;5;28mself\u001b[39m\u001b[38;5;241m.\u001b[39mname\n",
      "\u001b[0;31mAttributeError\u001b[0m: 'Account' object has no attribute 'acctid'"
     ]
    }
   ],
   "source": [
    "acctJack = Account(\"Jack Smith\", \"123\", \"10/10/2010\")"
   ]
  },
  {
   "cell_type": "code",
   "execution_count": 130,
   "id": "8b8d8d54",
   "metadata": {},
   "outputs": [
    {
     "ename": "NameError",
     "evalue": "name 'acct' is not defined",
     "output_type": "error",
     "traceback": [
      "\u001b[0;31m---------------------------------------------------------------------------\u001b[0m",
      "\u001b[0;31mNameError\u001b[0m                                 Traceback (most recent call last)",
      "Cell \u001b[0;32mIn[130], line 1\u001b[0m\n\u001b[0;32m----> 1\u001b[0m acct\u001b[38;5;241m.\u001b[39mJack\u001b[38;5;241m.\u001b[39mgetAcctId()\n",
      "\u001b[0;31mNameError\u001b[0m: name 'acct' is not defined"
     ]
    }
   ],
   "source": [
    "acct.Jack.getAcctId()"
   ]
  },
  {
   "cell_type": "markdown",
   "id": "9f4aebce",
   "metadata": {},
   "source": [
    "Note in the above markdown, remove methods for SSN and DOB"
   ]
  },
  {
   "cell_type": "markdown",
   "id": "d77833ef",
   "metadata": {},
   "source": [
    "#### Polymorphism "
   ]
  },
  {
   "cell_type": "code",
   "execution_count": 143,
   "id": "e88da42f",
   "metadata": {},
   "outputs": [],
   "source": [
    "class Robot: \n",
    "    def performTask(self): \n",
    "        print(\"Performing a generic Task\")\n",
    "\n",
    "class CleaningRobot(Robot): \n",
    "    def performTask(self):\n",
    "        print(\"Cleaning the house\")\n",
    "        \n",
    "class CookingRobot(Robot):\n",
    "    def performTask(self):\n",
    "        print(\"Cooking Dinner\")\n",
    "        \n",
    "# Function to demonstrate polymorphism \n",
    "def robotTask(robot):\n",
    "    robot.performTask()"
   ]
  },
  {
   "cell_type": "code",
   "execution_count": 145,
   "id": "94083970",
   "metadata": {},
   "outputs": [],
   "source": [
    "genericRobot = Robot()\n",
    "cleaningRobot = CleaningRobot()\n",
    "cookingRobot = CookingRobot()"
   ]
  },
  {
   "cell_type": "code",
   "execution_count": 147,
   "id": "c8dec962",
   "metadata": {},
   "outputs": [
    {
     "name": "stdout",
     "output_type": "stream",
     "text": [
      "Cleaning the house\n"
     ]
    }
   ],
   "source": [
    "robotTask(cleaningRobot)"
   ]
  },
  {
   "cell_type": "code",
   "execution_count": 148,
   "id": "70d1b19f",
   "metadata": {},
   "outputs": [
    {
     "name": "stdout",
     "output_type": "stream",
     "text": [
      "Cooking Dinner\n"
     ]
    }
   ],
   "source": [
    "robotTask(cookingRobot)"
   ]
  },
  {
   "cell_type": "code",
   "execution_count": null,
   "id": "f987d159",
   "metadata": {},
   "outputs": [],
   "source": []
  }
 ],
 "metadata": {
  "kernelspec": {
   "display_name": "Python 3 (ipykernel)",
   "language": "python",
   "name": "python3"
  },
  "language_info": {
   "codemirror_mode": {
    "name": "ipython",
    "version": 3
   },
   "file_extension": ".py",
   "mimetype": "text/x-python",
   "name": "python",
   "nbconvert_exporter": "python",
   "pygments_lexer": "ipython3",
   "version": "3.11.7"
  }
 },
 "nbformat": 4,
 "nbformat_minor": 5
}
