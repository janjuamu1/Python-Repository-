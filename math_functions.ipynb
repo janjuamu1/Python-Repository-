{
 "cells": [
  {
   "cell_type": "markdown",
   "id": "ac34433a",
   "metadata": {},
   "source": [
    "'math.floor' and 'math.ceil' functions in python "
   ]
  },
  {
   "cell_type": "markdown",
   "id": "ed9e676b",
   "metadata": {},
   "source": [
    "#### Example 1: Basic usage "
   ]
  },
  {
   "cell_type": "code",
   "execution_count": 2,
   "id": "8dc41f21",
   "metadata": {},
   "outputs": [
    {
     "data": {
      "text/plain": [
       "4"
      ]
     },
     "execution_count": 2,
     "metadata": {},
     "output_type": "execute_result"
    }
   ],
   "source": [
    "import math\n",
    "\n",
    "# using math.floor\n",
    "intValue = 4.7\n",
    "math.floor(intValue)"
   ]
  },
  {
   "cell_type": "code",
   "execution_count": 3,
   "id": "d5ef0e8d",
   "metadata": {},
   "outputs": [
    {
     "data": {
      "text/plain": [
       "5"
      ]
     },
     "execution_count": 3,
     "metadata": {},
     "output_type": "execute_result"
    }
   ],
   "source": [
    "math.ceil(intValue)"
   ]
  },
  {
   "cell_type": "code",
   "execution_count": 6,
   "id": "28441155",
   "metadata": {},
   "outputs": [
    {
     "data": {
      "text/plain": [
       "5"
      ]
     },
     "execution_count": 6,
     "metadata": {},
     "output_type": "execute_result"
    }
   ],
   "source": [
    "intValue2 = 4.2\n",
    "math.ceil(intValue2)"
   ]
  },
  {
   "cell_type": "code",
   "execution_count": 7,
   "id": "d823e26e",
   "metadata": {},
   "outputs": [
    {
     "data": {
      "text/plain": [
       "-5"
      ]
     },
     "execution_count": 7,
     "metadata": {},
     "output_type": "execute_result"
    }
   ],
   "source": [
    "intValue3 = -4.7 \n",
    "math.floor(intValue3)"
   ]
  },
  {
   "cell_type": "code",
   "execution_count": 8,
   "id": "53c9c89a",
   "metadata": {},
   "outputs": [
    {
     "data": {
      "text/plain": [
       "3"
      ]
     },
     "execution_count": 8,
     "metadata": {},
     "output_type": "execute_result"
    }
   ],
   "source": [
    "intValue4 = 3.0 \n",
    "math.floor(intValue4)"
   ]
  },
  {
   "cell_type": "code",
   "execution_count": null,
   "id": "85f7fea7",
   "metadata": {},
   "outputs": [],
   "source": []
  }
 ],
 "metadata": {
  "kernelspec": {
   "display_name": "Python 3 (ipykernel)",
   "language": "python",
   "name": "python3"
  },
  "language_info": {
   "codemirror_mode": {
    "name": "ipython",
    "version": 3
   },
   "file_extension": ".py",
   "mimetype": "text/x-python",
   "name": "python",
   "nbconvert_exporter": "python",
   "pygments_lexer": "ipython3",
   "version": "3.11.7"
  }
 },
 "nbformat": 4,
 "nbformat_minor": 5
}
