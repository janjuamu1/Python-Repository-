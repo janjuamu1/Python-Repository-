{
 "cells": [
  {
   "cell_type": "markdown",
   "id": "82a1272d",
   "metadata": {},
   "source": [
    "### Serialization \n",
    "Read more at: https://hazelcast.com/glossary/serialization/"
   ]
  },
  {
   "cell_type": "code",
   "execution_count": 5,
   "id": "97324c97",
   "metadata": {},
   "outputs": [
    {
     "name": "stdout",
     "output_type": "stream",
     "text": [
      "Pickling Lists\n"
     ]
    }
   ],
   "source": [
    "import pickle \n",
    "\n",
    "# Start serializing objects \n",
    "print(\"Pickling Lists\")\n",
    "variety = [\"Sweet\", \"Hot\", \"Dill\"]\n",
    "shape = [\"Whole\", \"Spear\", \"Chip\"]\n",
    "brand = [\"Claussen\", \"Heinz\",\"Vlassic\"]\n",
    "\n",
    "file = open(\"pickles.dat\", \"wb\") # wb = write binary \n",
    "pickle.dump(variety, file)\n",
    "pickle.dump(shape, file)\n",
    "pickle.dump(brand, file)\n",
    "\n",
    "file.close()"
   ]
  },
  {
   "cell_type": "markdown",
   "id": "97f341e7",
   "metadata": {},
   "source": [
    "#### Deserialization \n",
    "\n",
    "FIFO = First In First Out"
   ]
  },
  {
   "cell_type": "code",
   "execution_count": 13,
   "id": "b8131d97",
   "metadata": {},
   "outputs": [
    {
     "name": "stdout",
     "output_type": "stream",
     "text": [
      "Unpickle lists\n",
      "['Claussen', 'Heinz', 'Vlassic']\n"
     ]
    }
   ],
   "source": [
    "import pickle \n",
    "print(\"Unpickle lists\")\n",
    "file = open(\"pickles.dat\", \"rb\") #rb - read binary \n",
    "varietys = pickle.load(file)\n",
    "shape = pickle.load(file)\n",
    "brand = pickle.load(file)\n",
    "print(brand)"
   ]
  },
  {
   "cell_type": "markdown",
   "id": "ae60cb79",
   "metadata": {},
   "source": [
    "#### Example 2:\n",
    "Pickle and Data Dictionary object"
   ]
  },
  {
   "cell_type": "code",
   "execution_count": 14,
   "id": "b88c5141",
   "metadata": {},
   "outputs": [
    {
     "name": "stdout",
     "output_type": "stream",
     "text": [
      "Data has been pickled\n"
     ]
    }
   ],
   "source": [
    "import pickle\n",
    "data = {'key':'value', 'numbers' : [1, 2, 3, 4, 5]}\n",
    "\n",
    "#Picklingthe data to a file \n",
    "with open(\"data.pkl\", 'wb')as file:\n",
    "    pickle.dump(data, file)\n",
    "    \n",
    "print(\"Data has been pickled\")"
   ]
  },
  {
   "cell_type": "markdown",
   "id": "fcab5421",
   "metadata": {},
   "source": [
    "#### Unpickle the above dictionary object "
   ]
  },
  {
   "cell_type": "code",
   "execution_count": 15,
   "id": "e2e3810b",
   "metadata": {},
   "outputs": [
    {
     "name": "stdout",
     "output_type": "stream",
     "text": [
      "Data has been unpickled:\n",
      "{'key': 'value', 'numbers': [1, 2, 3, 4, 5]}\n"
     ]
    }
   ],
   "source": [
    "import pickle \n",
    "with open('data.pkl', 'rb') as file:\n",
    "    dataLoaded = pickle.load(file)\n",
    "    \n",
    "print(\"Data has been unpickled:\")\n",
    "print(dataLoaded)"
   ]
  },
  {
   "cell_type": "markdown",
   "id": "8cd5220b",
   "metadata": {},
   "source": [
    "#### Important Notes \n",
    "\n",
    "* It's important to be cautious with pickle files, as unpickling data from untrusted sources can be a security risk \n",
    "* Pickle files are not easily readable by other programming languages. Meaning, once you create a pickle in Python, you must unpickle the file using the same python version.\n",
    "* If you need interoperability with other languages, you should consider using JSON or XML instead. "
   ]
  },
  {
   "cell_type": "markdown",
   "id": "1575d084",
   "metadata": {},
   "source": [
    "#### Serialization and Deserialization using 'shelve' object"
   ]
  },
  {
   "cell_type": "code",
   "execution_count": 16,
   "id": "f7a6e642",
   "metadata": {},
   "outputs": [],
   "source": [
    "import shelve \n",
    "shelveObj = shelve.open(\"serialized.obj\")\n",
    "shelveObj[\"variety\"] = [\"Sweet\", \"Hot\", \"Dill\"]\n",
    "shelveObj[\"shape\"] = [\"Whole\", \"Spear\", \"Chip\"]\n",
    "shelveObj[\"brand\"] = [\"Claussen\", \"Heinz\", \"Vlassic\"]\n",
    "\n",
    "shelveObj.sync()"
   ]
  },
  {
   "cell_type": "code",
   "execution_count": 17,
   "id": "bcce268d",
   "metadata": {},
   "outputs": [
    {
     "name": "stdout",
     "output_type": "stream",
     "text": [
      "Retrieve the data from the Shelves\n",
      "Brand-  ['Claussen', 'Heinz', 'Vlassic']\n"
     ]
    }
   ],
   "source": [
    "print(\"Retrieve the data from the Shelves\")\n",
    "print(\"Brand- \", shelveObj[\"brand\"])"
   ]
  },
  {
   "cell_type": "code",
   "execution_count": null,
   "id": "8fbc606c",
   "metadata": {},
   "outputs": [],
   "source": []
  }
 ],
 "metadata": {
  "kernelspec": {
   "display_name": "Python 3 (ipykernel)",
   "language": "python",
   "name": "python3"
  },
  "language_info": {
   "codemirror_mode": {
    "name": "ipython",
    "version": 3
   },
   "file_extension": ".py",
   "mimetype": "text/x-python",
   "name": "python",
   "nbconvert_exporter": "python",
   "pygments_lexer": "ipython3",
   "version": "3.11.7"
  }
 },
 "nbformat": 4,
 "nbformat_minor": 5
}
