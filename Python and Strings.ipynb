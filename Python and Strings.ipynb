{
 "cells": [
  {
   "cell_type": "markdown",
   "id": "fa817982-3335-4c96-9a67-7cfcbbe6d0ae",
   "metadata": {},
   "source": [
    "### Python and Strings\n",
    "All strings in python 3 are sequences of \"pure\" unicode characters. This means, there is no specific encoding like UTF-8 "
   ]
  },
  {
   "cell_type": "code",
   "execution_count": 2,
   "id": "290a3f40-4701-4e85-9e4a-c0f6353ea5af",
   "metadata": {},
   "outputs": [],
   "source": [
    "strText = \"Hello World!\" "
   ]
  },
  {
   "cell_type": "markdown",
   "id": "d1a02ca6-8d8c-4892-ac33-32cd6b451644",
   "metadata": {},
   "source": [
    "* A string in Python consists of a series of sequences of characters - letters, numbers, and special characters. Strings can be subscripted or Indexed."
   ]
  },
  {
   "cell_type": "code",
   "execution_count": 5,
   "id": "2216db2e-f502-41ca-b09b-3b157b20fc56",
   "metadata": {},
   "outputs": [
    {
     "data": {
      "text/plain": [
       "'H'"
      ]
     },
     "execution_count": 5,
     "metadata": {},
     "output_type": "execute_result"
    }
   ],
   "source": [
    "strText[0]"
   ]
  },
  {
   "cell_type": "code",
   "execution_count": 6,
   "id": "5e01f1dc-3ada-40c1-a562-7901eee05b1e",
   "metadata": {},
   "outputs": [
    {
     "data": {
      "text/plain": [
       "'e'"
      ]
     },
     "execution_count": 6,
     "metadata": {},
     "output_type": "execute_result"
    }
   ],
   "source": [
    "strText[1]"
   ]
  },
  {
   "cell_type": "code",
   "execution_count": 7,
   "id": "85767e16-307f-41ee-ad1f-34172d028085",
   "metadata": {},
   "outputs": [
    {
     "data": {
      "text/plain": [
       "'l'"
      ]
     },
     "execution_count": 7,
     "metadata": {},
     "output_type": "execute_result"
    }
   ],
   "source": [
    "strText[2]"
   ]
  },
  {
   "cell_type": "code",
   "execution_count": 8,
   "id": "d5cf9508-5496-4557-983b-61c843ed8cf0",
   "metadata": {},
   "outputs": [
    {
     "data": {
      "text/plain": [
       "'l'"
      ]
     },
     "execution_count": 8,
     "metadata": {},
     "output_type": "execute_result"
    }
   ],
   "source": [
    "strText[3]"
   ]
  },
  {
   "cell_type": "code",
   "execution_count": 9,
   "id": "ec114706-6df2-43a8-bdbb-d16d09019909",
   "metadata": {},
   "outputs": [
    {
     "data": {
      "text/plain": [
       "'o'"
      ]
     },
     "execution_count": 9,
     "metadata": {},
     "output_type": "execute_result"
    }
   ],
   "source": [
    "strText[4]"
   ]
  },
  {
   "cell_type": "code",
   "execution_count": 10,
   "id": "5e520d4f-9909-4113-b2e6-423c2926cd42",
   "metadata": {},
   "outputs": [
    {
     "data": {
      "text/plain": [
       "'!'"
      ]
     },
     "execution_count": 10,
     "metadata": {},
     "output_type": "execute_result"
    }
   ],
   "source": [
    "strText[-1]"
   ]
  },
  {
   "cell_type": "code",
   "execution_count": 11,
   "id": "212c0c7a-46fe-42a8-8930-7ff87bd77519",
   "metadata": {},
   "outputs": [
    {
     "data": {
      "text/plain": [
       "'H'"
      ]
     },
     "execution_count": 11,
     "metadata": {},
     "output_type": "execute_result"
    }
   ],
   "source": [
    "strText[-12]\n"
   ]
  },
  {
   "cell_type": "code",
   "execution_count": 12,
   "id": "03003962-071f-4dd9-8a39-457e1de800dd",
   "metadata": {},
   "outputs": [],
   "source": [
    "strText = \"I am learning Python!\""
   ]
  },
  {
   "cell_type": "code",
   "execution_count": 19,
   "id": "830b2a6e-5ed5-4175-9a94-73ce7450aec0",
   "metadata": {},
   "outputs": [
    {
     "data": {
      "text/plain": [
       "'P'"
      ]
     },
     "execution_count": 19,
     "metadata": {},
     "output_type": "execute_result"
    }
   ],
   "source": [
    "strText[14]"
   ]
  },
  {
   "cell_type": "code",
   "execution_count": 21,
   "id": "39dfe644-bcdb-4902-9390-f0fdc7cc9b2b",
   "metadata": {},
   "outputs": [
    {
     "data": {
      "text/plain": [
       "21"
      ]
     },
     "execution_count": 21,
     "metadata": {},
     "output_type": "execute_result"
    }
   ],
   "source": [
    "len(strText)"
   ]
  },
  {
   "cell_type": "code",
   "execution_count": 27,
   "id": "4ecfa264-c1f8-4d3c-92d7-24cda3492fab",
   "metadata": {},
   "outputs": [
    {
     "data": {
      "text/plain": [
       "'!'"
      ]
     },
     "execution_count": 27,
     "metadata": {},
     "output_type": "execute_result"
    }
   ],
   "source": [
    "strText[len(strText)-1]"
   ]
  },
  {
   "cell_type": "code",
   "execution_count": 26,
   "id": "5492311c-bfbc-4a5e-96f4-47b9f420a6b1",
   "metadata": {},
   "outputs": [
    {
     "data": {
      "text/plain": [
       "'!'"
      ]
     },
     "execution_count": 26,
     "metadata": {},
     "output_type": "execute_result"
    }
   ],
   "source": [
    "# Access the last character of in the strText2 string using len function\n",
    "strText[len(strText)- 1]"
   ]
  },
  {
   "cell_type": "code",
   "execution_count": 29,
   "id": "6727ff50-707a-4e50-832d-1dc79baea208",
   "metadata": {},
   "outputs": [
    {
     "data": {
      "text/plain": [
       "str"
      ]
     },
     "execution_count": 29,
     "metadata": {},
     "output_type": "execute_result"
    }
   ],
   "source": [
    "type(strText)"
   ]
  },
  {
   "cell_type": "code",
   "execution_count": 40,
   "id": "7ca0480b-8113-4f91-ab08-2356364b7fb0",
   "metadata": {},
   "outputs": [],
   "source": [
    "strText3 = \"Hallo\"\n",
    "utfCompliant = strText3.encode(\"UTF-8\")"
   ]
  },
  {
   "cell_type": "code",
   "execution_count": 41,
   "id": "cf8d417b-6e1b-491c-b434-ea19a50ee08c",
   "metadata": {},
   "outputs": [
    {
     "data": {
      "text/plain": [
       "b'Hallo'"
      ]
     },
     "execution_count": 41,
     "metadata": {},
     "output_type": "execute_result"
    }
   ],
   "source": [
    "utfCompliant "
   ]
  },
  {
   "cell_type": "code",
   "execution_count": null,
   "id": "de462a75-0175-4985-b03f-1b6866fb130b",
   "metadata": {},
   "outputs": [],
   "source": []
  }
 ],
 "metadata": {
  "kernelspec": {
   "display_name": "Python 3 (ipykernel)",
   "language": "python",
   "name": "python3"
  },
  "language_info": {
   "codemirror_mode": {
    "name": "ipython",
    "version": 3
   },
   "file_extension": ".py",
   "mimetype": "text/x-python",
   "name": "python",
   "nbconvert_exporter": "python",
   "pygments_lexer": "ipython3",
   "version": "3.11.7"
  }
 },
 "nbformat": 4,
 "nbformat_minor": 5
}
