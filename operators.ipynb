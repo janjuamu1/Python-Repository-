{
 "cells": [
  {
   "cell_type": "markdown",
   "id": "efd537b4-84f4-4880-a8d2-b1d610ad2ac9",
   "metadata": {},
   "source": [
    "#### Operators \n",
    "* +,- : Addition / Substraction \n",
    "* *, % : Multiplication / Modula\n",
    "* / : Division\n",
    "* // : Floor Division\n",
    "* +x, -x : Unary minus and Unary plus (algebraic signs)\n",
    "* ** : Exponents\n",
    "* or, and, not : Boolean Or, Boolean And, Boolean Not\n",
    "* in : Element Of\n",
    "* <, >, !=, ==, >=,: Comparison operators\n",
    "* ^ : Bitwise XOR operator\n",
    "  \n"
   ]
  },
  {
   "cell_type": "markdown",
   "id": "82f11625-5fb6-4817-b531-512f78b83649",
   "metadata": {},
   "source": [
    "#### Unary Operators \n",
    "This operator, operates on a signle operand. They perform various operations such as a negation, or logical negation. "
   ]
  },
  {
   "cell_type": "code",
   "execution_count": 8,
   "id": "69c7106c-5372-4f22-a301-440a32c759a8",
   "metadata": {},
   "outputs": [],
   "source": [
    "# Unary Plus ('+'):\n",
    "\n",
    "x = +3\n",
    "# x is 3"
   ]
  },
  {
   "cell_type": "code",
   "execution_count": 5,
   "id": "8f53c977-7a1a-4810-a97b-a895426db1cc",
   "metadata": {},
   "outputs": [
    {
     "data": {
      "text/plain": [
       "-3"
      ]
     },
     "execution_count": 5,
     "metadata": {},
     "output_type": "execute_result"
    }
   ],
   "source": [
    "# Unary Minus \n",
    "x = -3 \n",
    "x"
   ]
  },
  {
   "cell_type": "code",
   "execution_count": 6,
   "id": "e638aa0e-434d-4a99-b91f-3008433ed0df",
   "metadata": {},
   "outputs": [],
   "source": [
    "y = -x"
   ]
  },
  {
   "cell_type": "code",
   "execution_count": 7,
   "id": "465ea2db-1a85-439d-a987-ba190ca216fb",
   "metadata": {},
   "outputs": [
    {
     "data": {
      "text/plain": [
       "3"
      ]
     },
     "execution_count": 7,
     "metadata": {},
     "output_type": "execute_result"
    }
   ],
   "source": [
    "y"
   ]
  },
  {
   "cell_type": "markdown",
   "id": "5f776259-ba96-4585-9647-e28d55760321",
   "metadata": {},
   "source": [
    "#### Comparison Operators\n"
   ]
  },
  {
   "cell_type": "code",
   "execution_count": 9,
   "id": "e03d3ca1-b1e7-4eda-bf5e-b84520808e2c",
   "metadata": {},
   "outputs": [],
   "source": [
    "x = 23 \n",
    "y = 24\n"
   ]
  },
  {
   "cell_type": "code",
   "execution_count": 10,
   "id": "7e733164-800d-4e32-98bb-53ec1965a54d",
   "metadata": {},
   "outputs": [
    {
     "data": {
      "text/plain": [
       "False"
      ]
     },
     "execution_count": 10,
     "metadata": {},
     "output_type": "execute_result"
    }
   ],
   "source": [
    "x == y"
   ]
  },
  {
   "cell_type": "code",
   "execution_count": 11,
   "id": "604e050f-020b-47b1-a477-ba89c487b349",
   "metadata": {},
   "outputs": [
    {
     "data": {
      "text/plain": [
       "False"
      ]
     },
     "execution_count": 11,
     "metadata": {},
     "output_type": "execute_result"
    }
   ],
   "source": [
    "(x == y)"
   ]
  }
 ],
 "metadata": {
  "kernelspec": {
   "display_name": "Python 3 (ipykernel)",
   "language": "python",
   "name": "python3"
  },
  "language_info": {
   "codemirror_mode": {
    "name": "ipython",
    "version": 3
   },
   "file_extension": ".py",
   "mimetype": "text/x-python",
   "name": "python",
   "nbconvert_exporter": "python",
   "pygments_lexer": "ipython3",
   "version": "3.11.7"
  }
 },
 "nbformat": 4,
 "nbformat_minor": 5
}
