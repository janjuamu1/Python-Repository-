{
 "cells": [
  {
   "cell_type": "markdown",
   "id": "fbc954a5-f727-45ad-b01f-43c8dff8a496",
   "metadata": {},
   "source": [
    "#### Changing / Modifying a List "
   ]
  },
  {
   "cell_type": "code",
   "execution_count": 24,
   "id": "0a9af91b-1f6e-4262-b378-c79b516b1402",
   "metadata": {},
   "outputs": [],
   "source": [
    "codingLanguages = [\"Python\",\"C\",\"C++\", \"Java\", \"Perl\"]"
   ]
  },
  {
   "cell_type": "code",
   "execution_count": 25,
   "id": "303bbff1-19f9-4e8b-b7f7-55d453f11206",
   "metadata": {},
   "outputs": [],
   "source": [
    "codingLanguages[4] = \"Rust\" # Assign a new value to element 4 in a list"
   ]
  },
  {
   "cell_type": "code",
   "execution_count": 26,
   "id": "b34c2701-27bf-4f6f-b096-662821becb8a",
   "metadata": {},
   "outputs": [
    {
     "data": {
      "text/plain": [
       "['Python', 'C', 'C++', 'Java', 'Rust']"
      ]
     },
     "execution_count": 26,
     "metadata": {},
     "output_type": "execute_result"
    }
   ],
   "source": [
    "codingLanguages"
   ]
  },
  {
   "cell_type": "code",
   "execution_count": 27,
   "id": "4973b4c3-9659-4b5a-bcd8-f1a3792d19fb",
   "metadata": {},
   "outputs": [
    {
     "ename": "IndexError",
     "evalue": "list assignment index out of range",
     "output_type": "error",
     "traceback": [
      "\u001b[0;31m---------------------------------------------------------------------------\u001b[0m",
      "\u001b[0;31mIndexError\u001b[0m                                Traceback (most recent call last)",
      "Cell \u001b[0;32mIn[27], line 1\u001b[0m\n\u001b[0;32m----> 1\u001b[0m codingLanguages [\u001b[38;5;241m5\u001b[39m] \u001b[38;5;241m=\u001b[39m \u001b[38;5;124m\"\u001b[39m\u001b[38;5;124mHaskell\u001b[39m\u001b[38;5;124m\"\u001b[39m\n",
      "\u001b[0;31mIndexError\u001b[0m: list assignment index out of range"
     ]
    }
   ],
   "source": [
    "codingLanguages [5] = \"Haskell\" # This fails because the 5th element index doesn't exist"
   ]
  },
  {
   "cell_type": "code",
   "execution_count": null,
   "id": "e26f09bf-694d-4f52-8c53-5787efc41413",
   "metadata": {},
   "outputs": [],
   "source": [
    "codingLanguages.append(\"Haskell\")"
   ]
  },
  {
   "cell_type": "code",
   "execution_count": null,
   "id": "52d97ac3-2243-42df-b24e-b855f1c91fb9",
   "metadata": {},
   "outputs": [],
   "source": [
    "codingLanguages"
   ]
  },
  {
   "cell_type": "code",
   "execution_count": null,
   "id": "27810b2b-107f-4e87-a2b9-bdd2e8fa1aef",
   "metadata": {},
   "outputs": [],
   "source": [
    "codingLanguages.insert(1,\"Perl\")"
   ]
  },
  {
   "cell_type": "code",
   "execution_count": null,
   "id": "6ab83c40-7dcf-4324-8887-9169b8e7faa4",
   "metadata": {},
   "outputs": [],
   "source": [
    "codingLanguages"
   ]
  },
  {
   "cell_type": "markdown",
   "id": "0f5290d3-ab05-420c-babe-983e0f65d586",
   "metadata": {},
   "source": [
    " ### Examples for a list usage "
   ]
  },
  {
   "cell_type": "code",
   "execution_count": 57,
   "id": "9ceaf8a5-adbf-4c4e-a6ec-f11caef235ed",
   "metadata": {},
   "outputs": [],
   "source": [
    "groceryList = [\"milk\",\"Yogurt\",\"egg\", \"butter\", \"bread\", \"bananas\"]\n",
    "shoppingCartList = [] # This will create a new empty list"
   ]
  },
  {
   "cell_type": "code",
   "execution_count": 58,
   "id": "f6d63d80-43e1-4a05-8542-641fd2049de5",
   "metadata": {},
   "outputs": [],
   "source": [
    "# pop() removes the last element from the list and returns it. "
   ]
  },
  {
   "cell_type": "code",
   "execution_count": 68,
   "id": "722ac12f-7a86-4b8b-a166-e158e81963bb",
   "metadata": {},
   "outputs": [],
   "source": [
    "grocery1 = groceryList.pop() # ATOMIC operation - either true or false\n",
    "shoppingCartList.append(grocery1)"
   ]
  },
  {
   "cell_type": "code",
   "execution_count": 69,
   "id": "bfd3457e-eda2-4c72-8c6e-b9eaa921e694",
   "metadata": {},
   "outputs": [
    {
     "data": {
      "text/plain": [
       "['bananas', 'bananas', 'bananas', 'bananas', 'bread']"
      ]
     },
     "execution_count": 69,
     "metadata": {},
     "output_type": "execute_result"
    }
   ],
   "source": [
    "shoppingCartList"
   ]
  },
  {
   "cell_type": "code",
   "execution_count": 64,
   "id": "f973b020-7f8b-42ec-a247-9719aa913cf7",
   "metadata": {},
   "outputs": [],
   "source": [
    "shoppingCartList.append(grocery1)"
   ]
  },
  {
   "cell_type": "code",
   "execution_count": 70,
   "id": "ab33229f-d006-4975-9760-20857ebf3b63",
   "metadata": {},
   "outputs": [],
   "source": [
    "grocery2 = groceryList.pop(1) \n",
    "shoppingCartList.append(grocery2)"
   ]
  },
  {
   "cell_type": "code",
   "execution_count": 65,
   "id": "04b22e04-fca8-4522-b3b8-d332f14abddc",
   "metadata": {},
   "outputs": [
    {
     "data": {
      "text/plain": [
       "['milk', 'Yogurt', 'egg', 'butter', 'bread']"
      ]
     },
     "execution_count": 65,
     "metadata": {},
     "output_type": "execute_result"
    }
   ],
   "source": [
    "groceryList"
   ]
  },
  {
   "cell_type": "code",
   "execution_count": 66,
   "id": "036880fc-37e0-470f-8e65-b41ca492ce6e",
   "metadata": {},
   "outputs": [
    {
     "data": {
      "text/plain": [
       "['bananas', 'bananas', 'bananas', 'bananas']"
      ]
     },
     "execution_count": 66,
     "metadata": {},
     "output_type": "execute_result"
    }
   ],
   "source": [
    "shoppingCartList"
   ]
  },
  {
   "cell_type": "code",
   "execution_count": 67,
   "id": "5612c369-8bc5-4853-970f-385f4f844e5b",
   "metadata": {},
   "outputs": [
    {
     "data": {
      "text/plain": [
       "'bananas'"
      ]
     },
     "execution_count": 67,
     "metadata": {},
     "output_type": "execute_result"
    }
   ],
   "source": [
    "grocery1"
   ]
  },
  {
   "cell_type": "markdown",
   "id": "ce9f8e6f-652d-4036-a857-c712f7be534b",
   "metadata": {},
   "source": [
    "### Tuple \n",
    "A tuple is an immutable list. A tuble cannot be changed in any way once it has been created. \n",
    "* Typles are faster than lists\n",
    "* If you know that some data doesn't have to be chanacged, you should use tuples instead of a list, because this protects the data from accidental changes.\n",
    "  "
   ]
  },
  {
   "cell_type": "code",
   "execution_count": 71,
   "id": "98064eeb-dd54-4f47-a51a-6a9529a594b1",
   "metadata": {},
   "outputs": [],
   "source": [
    "tplList = (\"tuples\", \"are\", \"immutable\")"
   ]
  },
  {
   "cell_type": "markdown",
   "id": "bf3b46b3-fa60-4231-934f-f4c93b3491e6",
   "metadata": {},
   "source": [
    "tplList[0]"
   ]
  },
  {
   "cell_type": "code",
   "execution_count": 73,
   "id": "e497e00d-912a-431d-853d-1a02af89dd29",
   "metadata": {},
   "outputs": [
    {
     "data": {
      "text/plain": [
       "'t'"
      ]
     },
     "execution_count": 73,
     "metadata": {},
     "output_type": "execute_result"
    }
   ],
   "source": [
    "tplList[0][0]"
   ]
  },
  {
   "cell_type": "code",
   "execution_count": 74,
   "id": "121cd79f-8f37-4c26-8f09-f393d7a7700d",
   "metadata": {},
   "outputs": [
    {
     "ename": "TypeError",
     "evalue": "'tuple' object does not support item assignment",
     "output_type": "error",
     "traceback": [
      "\u001b[0;31m---------------------------------------------------------------------------\u001b[0m",
      "\u001b[0;31mTypeError\u001b[0m                                 Traceback (most recent call last)",
      "Cell \u001b[0;32mIn[74], line 1\u001b[0m\n\u001b[0;32m----> 1\u001b[0m tplList[\u001b[38;5;241m0\u001b[39m] \u001b[38;5;241m=\u001b[39m \u001b[38;5;124m\"\u001b[39m\u001b[38;5;124mThis does not work\u001b[39m\u001b[38;5;124m\"\u001b[39m\n",
      "\u001b[0;31mTypeError\u001b[0m: 'tuple' object does not support item assignment"
     ]
    }
   ],
   "source": [
    "tplList[0] = \"This does not work\""
   ]
  },
  {
   "cell_type": "code",
   "execution_count": 76,
   "id": "546e219d-e85f-444e-8880-a0f5d3b16393",
   "metadata": {},
   "outputs": [],
   "source": [
    "tplListGW = (\"Born\", \"Presidency\", \"Death\")"
   ]
  },
  {
   "cell_type": "code",
   "execution_count": 79,
   "id": "37da0405-0346-4790-b813-5c599a882517",
   "metadata": {},
   "outputs": [],
   "source": [
    "tpListmichael_jackson = (\"Michael Jackson\", \"Born August 29, 1958\", \"Died June 25 2009\", \"3 Children\")"
   ]
  },
  {
   "cell_type": "markdown",
   "id": "f0135ef9-4cae-42db-856b-a015a3c8415d",
   "metadata": {},
   "source": [
    "#### Extend In a List "
   ]
  },
  {
   "cell_type": "code",
   "execution_count": 80,
   "id": "7bcd1ab8-cff3-439d-a41e-3d0a459c55e7",
   "metadata": {},
   "outputs": [
    {
     "data": {
      "text/plain": [
       "[42, 43, 44, [45, 46]]"
      ]
     },
     "execution_count": 80,
     "metadata": {},
     "output_type": "execute_result"
    }
   ],
   "source": [
    "lst1 = [42,43,44]\n",
    "lst2 = [45,46]\n",
    "lst1.append(lst2)\n",
    "lst1"
   ]
  },
  {
   "cell_type": "code",
   "execution_count": 81,
   "id": "c0d0a2bf-80fc-4ca2-8f67-842e524b94f0",
   "metadata": {},
   "outputs": [
    {
     "data": {
      "text/plain": [
       "[1, 2, 3, 4, 5, 6]"
      ]
     },
     "execution_count": 81,
     "metadata": {},
     "output_type": "execute_result"
    }
   ],
   "source": [
    "lst3 = [1,2,3,4]\n",
    "lst4 = [5,6]\n",
    "lst3.extend(lst4)\n",
    "lst3"
   ]
  },
  {
   "cell_type": "markdown",
   "id": "9dd75c2b-ff2e-4225-b97c-6e27f5a7fc28",
   "metadata": {},
   "source": [
    "Extend goes thru each and every element from that list forward and adds that to the orignal list. "
   ]
  },
  {
   "cell_type": "code",
   "execution_count": 82,
   "id": "21907560-a0a9-4d18-869a-5c68fbfe1a47",
   "metadata": {},
   "outputs": [
    {
     "data": {
      "text/plain": [
       "['a', 'b', 'c', 'P', 'y', 't', 'h', 'o', 'n']"
      ]
     },
     "execution_count": 82,
     "metadata": {},
     "output_type": "execute_result"
    }
   ],
   "source": [
    "lst = [\"a\", \"b\", \"c\"] # Lit\n",
    "language = \"Python\" # String \n",
    "lst.extend(language)\n",
    "lst"
   ]
  },
  {
   "cell_type": "code",
   "execution_count": 5,
   "id": "c00b31ec-c702-4728-a920-a86d35c08b50",
   "metadata": {},
   "outputs": [
    {
     "data": {
      "text/plain": [
       "['Java', 'C', 'Python', 'C#', 'Jython', 'PHP', 'IronPython']"
      ]
     },
     "execution_count": 5,
     "metadata": {},
     "output_type": "execute_result"
    }
   ],
   "source": [
    "lstNew = [\"Java\", \"C\", \"Python\"] # List \n",
    "tplList = (\"C#\", \"Jython\", \"PHP\", \"IronPython\") # Tuple List \n",
    "lstNew.extend(tplList)\n",
    "lstNew\n"
   ]
  },
  {
   "cell_type": "code",
   "execution_count": 6,
   "id": "53f85069-647f-4b97-9651-605cf989a9a9",
   "metadata": {},
   "outputs": [],
   "source": [
    "# remove method \n",
    "lstValue = lstNew.remove(\"Jython\") # This does not return a value \n",
    "lstValue"
   ]
  },
  {
   "cell_type": "code",
   "execution_count": 7,
   "id": "4f96be83-bee3-4e64-92ea-117ba087505b",
   "metadata": {},
   "outputs": [
    {
     "data": {
      "text/plain": [
       "['Java', 'C', 'Python', 'C#', 'PHP', 'IronPython']"
      ]
     },
     "execution_count": 7,
     "metadata": {},
     "output_type": "execute_result"
    }
   ],
   "source": [
    "lstNew"
   ]
  },
  {
   "cell_type": "markdown",
   "id": "10ae003a-107a-448f-b871-1fb36907809b",
   "metadata": {},
   "source": [
    "unlike \"Pop\" return does not show anything "
   ]
  },
  {
   "cell_type": "code",
   "execution_count": 8,
   "id": "e2ff806c-4de4-4825-ae9f-b0b2b50801f9",
   "metadata": {},
   "outputs": [
    {
     "data": {
      "text/plain": [
       "2"
      ]
     },
     "execution_count": 8,
     "metadata": {},
     "output_type": "execute_result"
    }
   ],
   "source": [
    "lstNew.index(\"Python\")"
   ]
  },
  {
   "cell_type": "code",
   "execution_count": null,
   "id": "12bee19f-2718-42db-bff7-8ef5238b1db7",
   "metadata": {},
   "outputs": [],
   "source": []
  }
 ],
 "metadata": {
  "kernelspec": {
   "display_name": "Python 3 (ipykernel)",
   "language": "python",
   "name": "python3"
  },
  "language_info": {
   "codemirror_mode": {
    "name": "ipython",
    "version": 3
   },
   "file_extension": ".py",
   "mimetype": "text/x-python",
   "name": "python",
   "nbconvert_exporter": "python",
   "pygments_lexer": "ipython3",
   "version": "3.11.7"
  }
 },
 "nbformat": 4,
 "nbformat_minor": 5
}
