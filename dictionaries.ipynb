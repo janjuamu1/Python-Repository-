{
 "cells": [
  {
   "cell_type": "markdown",
   "id": "e5259f8a-2c1b-47e8-a178-2f697a1ddfbf",
   "metadata": {},
   "source": [
    "#### Dictionaries \n",
    "* The data is represented as a <k,v> (Key, Value Pair)\n",
    "* You can expand the data like <k, <k, v>>\n",
    "* <k, <k, <k, v>>>\n",
    "* The key value pair is the foundation in NoSQL databases. NoSql databases are immutable. When you are learning Key value pairs, you need to understand how big of a role it plays in big data.\n",
    "\n",
    "### Dictionary creation and characteristics \n",
    "* A dictionary is wrapped in curly brackets {}\n",
    "* a dictionary contains keys and values "
   ]
  },
  {
   "cell_type": "code",
   "execution_count": 36,
   "id": "67a3ea13-326f-419d-9c2e-f7e37bce2e30",
   "metadata": {},
   "outputs": [],
   "source": [
    "people = {\n",
    "        'name': \"Jack Smith\",\n",
    "        'age' : 23, \n",
    "        'city': \"Ashburn\", \n",
    "        'email' : \"jack@email.com\"\n",
    "\n",
    "}"
   ]
  },
  {
   "cell_type": "code",
   "execution_count": 37,
   "id": "b6ad63d5-63a7-43b0-a87f-82b3a3274c54",
   "metadata": {},
   "outputs": [
    {
     "name": "stdout",
     "output_type": "stream",
     "text": [
      "Jack Smith age is 23\n"
     ]
    }
   ],
   "source": [
    "# Retreive the values \n",
    "name = people['name']\n",
    "age = people ['age']\n",
    "print(name,\"age is\", age)"
   ]
  },
  {
   "cell_type": "code",
   "execution_count": 38,
   "id": "befad59a-65c9-4095-ac30-4de2461f4694",
   "metadata": {},
   "outputs": [],
   "source": [
    "people[\"city\"] = \"Arlington\""
   ]
  },
  {
   "cell_type": "code",
   "execution_count": 39,
   "id": "e27193de-2252-48ad-b8a2-9eec302f8aa8",
   "metadata": {},
   "outputs": [
    {
     "data": {
      "text/plain": [
       "{'name': 'Jack Smith',\n",
       " 'age': 23,\n",
       " 'city': 'Arlington',\n",
       " 'email': 'jack@email.com'}"
      ]
     },
     "execution_count": 39,
     "metadata": {},
     "output_type": "execute_result"
    }
   ],
   "source": [
    "people"
   ]
  },
  {
   "cell_type": "code",
   "execution_count": 40,
   "id": "47c0727b-387e-4472-ad42-f27d7c05b060",
   "metadata": {},
   "outputs": [],
   "source": [
    "people [\"gender\"] = \"Male\"\n",
    "people [\"hobbies\"] = [\"Gaming\",\"Music\",\"Programming\"]\n"
   ]
  },
  {
   "cell_type": "code",
   "execution_count": 41,
   "id": "2cc967ec-7ac8-4d21-9209-f5e0ec413709",
   "metadata": {},
   "outputs": [
    {
     "data": {
      "text/plain": [
       "{'name': 'Jack Smith',\n",
       " 'age': 23,\n",
       " 'city': 'Arlington',\n",
       " 'email': 'jack@email.com',\n",
       " 'gender': 'Male',\n",
       " 'hobbies': ['Gaming', 'Music', 'Programming']}"
      ]
     },
     "execution_count": 41,
     "metadata": {},
     "output_type": "execute_result"
    }
   ],
   "source": [
    "people"
   ]
  },
  {
   "cell_type": "code",
   "execution_count": 42,
   "id": "f6e1ce19-419e-4ebf-bc94-e7f401424e9f",
   "metadata": {},
   "outputs": [],
   "source": [
    "people [\"Cities_visited\"] = (\"manassas\", \"sterling\", \"jamestown\")"
   ]
  },
  {
   "cell_type": "code",
   "execution_count": 43,
   "id": "5d6ef868-fcd8-44e7-90e7-41b63bde802d",
   "metadata": {},
   "outputs": [
    {
     "data": {
      "text/plain": [
       "{'name': 'Jack Smith',\n",
       " 'age': 23,\n",
       " 'city': 'Arlington',\n",
       " 'email': 'jack@email.com',\n",
       " 'gender': 'Male',\n",
       " 'hobbies': ['Gaming', 'Music', 'Programming'],\n",
       " 'Cities_visited': ('manassas', 'sterling', 'jamestown')}"
      ]
     },
     "execution_count": 43,
     "metadata": {},
     "output_type": "execute_result"
    }
   ],
   "source": [
    "people"
   ]
  },
  {
   "cell_type": "code",
   "execution_count": 44,
   "id": "24e0c74f-555e-4f07-af23-9caa59cf4b6e",
   "metadata": {},
   "outputs": [],
   "source": [
    "people_keys = people.keys()"
   ]
  },
  {
   "cell_type": "code",
   "execution_count": 45,
   "id": "5ea746aa-0809-4211-a220-1c02cc4492c5",
   "metadata": {},
   "outputs": [
    {
     "data": {
      "text/plain": [
       "dict_keys(['name', 'age', 'city', 'email', 'gender', 'hobbies', 'Cities_visited'])"
      ]
     },
     "execution_count": 45,
     "metadata": {},
     "output_type": "execute_result"
    }
   ],
   "source": [
    "people_keys"
   ]
  },
  {
   "cell_type": "code",
   "execution_count": 46,
   "id": "2eea8319-88a3-4096-8731-613e6f271b9c",
   "metadata": {},
   "outputs": [
    {
     "data": {
      "text/plain": [
       "dict"
      ]
     },
     "execution_count": 46,
     "metadata": {},
     "output_type": "execute_result"
    }
   ],
   "source": [
    "type (people)"
   ]
  },
  {
   "cell_type": "code",
   "execution_count": 47,
   "id": "f9deb8da-ae9f-463e-a8c8-346d76ab380b",
   "metadata": {},
   "outputs": [
    {
     "data": {
      "text/plain": [
       "dict_values(['Jack Smith', 23, 'Arlington', 'jack@email.com', 'Male', ['Gaming', 'Music', 'Programming'], ('manassas', 'sterling', 'jamestown')])"
      ]
     },
     "execution_count": 47,
     "metadata": {},
     "output_type": "execute_result"
    }
   ],
   "source": [
    "people.values()"
   ]
  },
  {
   "cell_type": "markdown",
   "id": "cc94b336-1b5d-4d28-a6ff-ebd9d870bfe6",
   "metadata": {},
   "source": [
    "#### Turn Lists into Dictionaries "
   ]
  },
  {
   "cell_type": "code",
   "execution_count": 49,
   "id": "72882533-8ef2-4490-bc9b-b3ffd47ce254",
   "metadata": {},
   "outputs": [],
   "source": [
    "cities = ['Sterling', 'Ashburn', 'Arlington', 'fairfax']\n",
    "population = [20000, 13000, 28000, 35000]\n",
    "cityPopulationDict = dict(zip(cities, population))\n"
   ]
  },
  {
   "cell_type": "code",
   "execution_count": 50,
   "id": "1f224a89-deee-4455-a089-fd0eea40d71a",
   "metadata": {},
   "outputs": [
    {
     "data": {
      "text/plain": [
       "{'Sterling': 20000, 'Ashburn': 13000, 'Arlington': 28000, 'fairfax': 35000}"
      ]
     },
     "execution_count": 50,
     "metadata": {},
     "output_type": "execute_result"
    }
   ],
   "source": [
    "cityPopulationDict "
   ]
  },
  {
   "cell_type": "code",
   "execution_count": null,
   "id": "b1632402-0e7a-4fe9-89cf-b0d8167c8f37",
   "metadata": {},
   "outputs": [],
   "source": []
  }
 ],
 "metadata": {
  "kernelspec": {
   "display_name": "Python 3 (ipykernel)",
   "language": "python",
   "name": "python3"
  },
  "language_info": {
   "codemirror_mode": {
    "name": "ipython",
    "version": 3
   },
   "file_extension": ".py",
   "mimetype": "text/x-python",
   "name": "python",
   "nbconvert_exporter": "python",
   "pygments_lexer": "ipython3",
   "version": "3.11.7"
  }
 },
 "nbformat": 4,
 "nbformat_minor": 5
}
