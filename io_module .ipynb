{
 "cells": [
  {
   "cell_type": "markdown",
   "id": "bc915aa2",
   "metadata": {},
   "source": [
    "#### \"Os\" Module \n",
    "The `os` module in Python is a built-in library that provides a way of using operating system dependent functionalit. This allows you to interface with underlying operating system in several ways, like navigation, file information retrieval and managing the files."
   ]
  },
  {
   "cell_type": "code",
   "execution_count": 38,
   "id": "80df83e5",
   "metadata": {},
   "outputs": [
    {
     "data": {
      "text/plain": [
       "'/Users/usmanjanjua/Documents/python_class_April2024'"
      ]
     },
     "execution_count": 38,
     "metadata": {},
     "output_type": "execute_result"
    }
   ],
   "source": [
    "%pwd"
   ]
  },
  {
   "cell_type": "markdown",
   "id": "685e7ffb",
   "metadata": {},
   "source": [
    "#### Example 1: \n",
    "Navigating and modifying the directory structure"
   ]
  },
  {
   "cell_type": "code",
   "execution_count": 39,
   "id": "b930b133",
   "metadata": {},
   "outputs": [
    {
     "name": "stdout",
     "output_type": "stream",
     "text": [
      "/Users/usmanjanjua/Documents/python_class_April2024\n"
     ]
    }
   ],
   "source": [
    "import os \n",
    "os.chdir('/Users/usmanjanjua/Documents/python_class_April2024') # Change current working directory \n",
    "print(os.getcwd())# get the current working directory "
   ]
  },
  {
   "cell_type": "markdown",
   "id": "fc989676",
   "metadata": {},
   "source": [
    "# Example 2:\n",
    "Listing all files and directories in a specified directory \n"
   ]
  },
  {
   "cell_type": "code",
   "execution_count": 40,
   "id": "216612c6",
   "metadata": {},
   "outputs": [
    {
     "name": "stdout",
     "output_type": "stream",
     "text": [
      "['python_class_April2024', '.DS_Store', '.localized', 'Zoom']\n"
     ]
    }
   ],
   "source": [
    "import os \n",
    "entries = os.listdir('/Users/usmanjanjua/Documents')\n",
    "print(entries)"
   ]
  },
  {
   "cell_type": "markdown",
   "id": "1f7b6af1",
   "metadata": {},
   "source": [
    "#### Example 3:\n",
    "Renaming a file "
   ]
  },
  {
   "cell_type": "code",
   "execution_count": 41,
   "id": "bee22eec",
   "metadata": {},
   "outputs": [
    {
     "ename": "FileNotFoundError",
     "evalue": "[Errno 2] No such file or directory: 'oldFileName.txt' -> 'newFileName.txt'",
     "output_type": "error",
     "traceback": [
      "\u001b[0;31m---------------------------------------------------------------------------\u001b[0m",
      "\u001b[0;31mFileNotFoundError\u001b[0m                         Traceback (most recent call last)",
      "Cell \u001b[0;32mIn[41], line 2\u001b[0m\n\u001b[1;32m      1\u001b[0m \u001b[38;5;28;01mimport\u001b[39;00m \u001b[38;5;21;01mos\u001b[39;00m\n\u001b[0;32m----> 2\u001b[0m os\u001b[38;5;241m.\u001b[39mrename(\u001b[38;5;124m'\u001b[39m\u001b[38;5;124moldFileName.txt\u001b[39m\u001b[38;5;124m'\u001b[39m, \u001b[38;5;124m'\u001b[39m\u001b[38;5;124mnewFileName.txt\u001b[39m\u001b[38;5;124m'\u001b[39m)\n",
      "\u001b[0;31mFileNotFoundError\u001b[0m: [Errno 2] No such file or directory: 'oldFileName.txt' -> 'newFileName.txt'"
     ]
    }
   ],
   "source": [
    "import os\n",
    "os.rename('oldFileName.txt', 'newFileName.txt') #Renames a file "
   ]
  },
  {
   "cell_type": "markdown",
   "id": "f0b7bbe9",
   "metadata": {},
   "source": [
    "#### Example 4:\n",
    "Function to check if a file exists and open it: "
   ]
  },
  {
   "cell_type": "code",
   "execution_count": 42,
   "id": "15bb9ce4",
   "metadata": {},
   "outputs": [],
   "source": [
    "import os\n",
    "def openTextFile(fileName): # These types of functions are called helper functions \n",
    "    if os.path.exists(fileName) and fileName.endswith('.txt'):\n",
    "        with open(fileName, 'r') as file:\n",
    "            return file.read() \n",
    "    else:\n",
    "        return \"File does not exists or is not text file\""
   ]
  },
  {
   "cell_type": "markdown",
   "id": "5e15fc8c",
   "metadata": {},
   "source": [
    "openTextFile('newFileName.txt')"
   ]
  },
  {
   "cell_type": "markdown",
   "id": "a2238475",
   "metadata": {},
   "source": [
    "#### Example 5:\n",
    "Function to list all python files in directory "
   ]
  },
  {
   "cell_type": "code",
   "execution_count": 49,
   "id": "56228c57",
   "metadata": {},
   "outputs": [],
   "source": [
    "def listTextFiles(directory):\n",
    "    textFiles = [] \n",
    "    for file in os.listdir(directory):\n",
    "        if file.endswith('.txt'):\n",
    "            textFiles.append(file)\n",
    "    return textFiles"
   ]
  },
  {
   "cell_type": "code",
   "execution_count": 50,
   "id": "4471fc53",
   "metadata": {},
   "outputs": [
    {
     "data": {
      "text/plain": [
       "['example.txt', 'newFileName.txt']"
      ]
     },
     "execution_count": 50,
     "metadata": {},
     "output_type": "execute_result"
    }
   ],
   "source": [
    "listTextFiles(os.getcwd())"
   ]
  },
  {
   "cell_type": "markdown",
   "id": "17d81a21",
   "metadata": {},
   "source": [
    "#### Example 6: \n",
    "Function to get the size of a file"
   ]
  },
  {
   "cell_type": "code",
   "execution_count": 51,
   "id": "f619dd10",
   "metadata": {},
   "outputs": [],
   "source": [
    "def getFileSize(fileName):\n",
    "    return os.path.getsize(fileName)"
   ]
  },
  {
   "cell_type": "code",
   "execution_count": 52,
   "id": "5e1328d2",
   "metadata": {},
   "outputs": [
    {
     "data": {
      "text/plain": [
       "11"
      ]
     },
     "execution_count": 52,
     "metadata": {},
     "output_type": "execute_result"
    }
   ],
   "source": [
    "getFileSize('newFileName.txt') "
   ]
  },
  {
   "cell_type": "code",
   "execution_count": 53,
   "id": "ec3e98e4",
   "metadata": {},
   "outputs": [
    {
     "data": {
      "text/plain": [
       "49672"
      ]
     },
     "execution_count": 53,
     "metadata": {},
     "output_type": "execute_result"
    }
   ],
   "source": [
    "getFileSize('sample-local-pdf.pdf')"
   ]
  },
  {
   "cell_type": "markdown",
   "id": "89576221",
   "metadata": {},
   "source": [
    "#### Example 7:   (90% Exam question)\n",
    "The 'os.payj.isfile()' function is Python is used to check whether the specified path is an existing regular file. "
   ]
  },
  {
   "cell_type": "code",
   "execution_count": 54,
   "id": "1cae5542",
   "metadata": {},
   "outputs": [],
   "source": [
    "import os \n",
    "def readIfFileExists(path): \n",
    "    if os.path.isfile(path):\n",
    "        with open(path, 'r') as file:\n",
    "            return file.read()\n",
    "    else:\n",
    "        return \"The Provided path is not a file or does not exist\""
   ]
  },
  {
   "cell_type": "code",
   "execution_count": 56,
   "id": "cfce9192",
   "metadata": {},
   "outputs": [
    {
     "data": {
      "text/plain": [
       "'Lorem Ipsum'"
      ]
     },
     "execution_count": 56,
     "metadata": {},
     "output_type": "execute_result"
    }
   ],
   "source": [
    "readIfFileExists('newFileName.txt')"
   ]
  }
 ],
 "metadata": {
  "kernelspec": {
   "display_name": "Python 3 (ipykernel)",
   "language": "python",
   "name": "python3"
  },
  "language_info": {
   "codemirror_mode": {
    "name": "ipython",
    "version": 3
   },
   "file_extension": ".py",
   "mimetype": "text/x-python",
   "name": "python",
   "nbconvert_exporter": "python",
   "pygments_lexer": "ipython3",
   "version": "3.11.7"
  }
 },
 "nbformat": 4,
 "nbformat_minor": 5
}
