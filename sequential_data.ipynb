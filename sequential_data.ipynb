{
 "cells": [
  {
   "cell_type": "code",
   "execution_count": 4,
   "id": "2017e3e0-fa67-4302-87e6-862301cac8c2",
   "metadata": {},
   "outputs": [],
   "source": [
    "lstCities = [\"Ashburn\", \"Vienna\", \"Manassas\", \"Woodbridge\"] "
   ]
  },
  {
   "cell_type": "code",
   "execution_count": 5,
   "id": "03472ac0-9c5e-4c3b-bc40-9cccb6ac4743",
   "metadata": {},
   "outputs": [
    {
     "data": {
      "text/plain": [
       "list"
      ]
     },
     "execution_count": 5,
     "metadata": {},
     "output_type": "execute_result"
    }
   ],
   "source": [
    "type(lstCities)"
   ]
  },
  {
   "cell_type": "code",
   "execution_count": 6,
   "id": "80495766-13f6-43d6-b314-2dcc08c8a8b8",
   "metadata": {},
   "outputs": [
    {
     "data": {
      "text/plain": [
       "'Woodbridge'"
      ]
     },
     "execution_count": 6,
     "metadata": {},
     "output_type": "execute_result"
    }
   ],
   "source": [
    "lstCities[-1]"
   ]
  },
  {
   "cell_type": "code",
   "execution_count": 7,
   "id": "d2034caf-e9c9-43fd-8a9d-c80bd4555d4b",
   "metadata": {},
   "outputs": [
    {
     "data": {
      "text/plain": [
       "'Ashburn'"
      ]
     },
     "execution_count": 7,
     "metadata": {},
     "output_type": "execute_result"
    }
   ],
   "source": [
    "lstCities[0]"
   ]
  },
  {
   "cell_type": "code",
   "execution_count": 9,
   "id": "adcf3bf9-df70-4c5f-ba10-12bf380d24c1",
   "metadata": {},
   "outputs": [],
   "source": [
    "city1 = lstCities[0]\n"
   ]
  },
  {
   "cell_type": "code",
   "execution_count": 10,
   "id": "87070f59-64be-4db4-a168-3e2d8e5de7f4",
   "metadata": {},
   "outputs": [
    {
     "data": {
      "text/plain": [
       "str"
      ]
     },
     "execution_count": 10,
     "metadata": {},
     "output_type": "execute_result"
    }
   ],
   "source": [
    "type(city1)"
   ]
  },
  {
   "cell_type": "code",
   "execution_count": 11,
   "id": "0f3b0557-e3cd-4574-b1fd-1014fc681c00",
   "metadata": {},
   "outputs": [
    {
     "data": {
      "text/plain": [
       "'A'"
      ]
     },
     "execution_count": 11,
     "metadata": {},
     "output_type": "execute_result"
    }
   ],
   "source": [
    "city1[0]"
   ]
  },
  {
   "cell_type": "code",
   "execution_count": 12,
   "id": "6dbc66e9-99a5-4b76-a84e-335704f05b50",
   "metadata": {},
   "outputs": [
    {
     "data": {
      "text/plain": [
       "'A'"
      ]
     },
     "execution_count": 12,
     "metadata": {},
     "output_type": "execute_result"
    }
   ],
   "source": [
    "city1[0][0]\n"
   ]
  },
  {
   "cell_type": "code",
   "execution_count": 13,
   "id": "6cbf4c6c-297d-4efe-82bb-5a2a36ef859e",
   "metadata": {},
   "outputs": [],
   "source": [
    "lstCountries = [\"Pakistan\", \"USA\", \"China\"]"
   ]
  },
  {
   "cell_type": "code",
   "execution_count": 15,
   "id": "d558d608-1ec3-4454-a0c3-cb6cdf2d6edc",
   "metadata": {},
   "outputs": [],
   "source": [
    "lstNumbers = [\"1\",\"2\",\"3\",\"4\",\"5\"]"
   ]
  },
  {
   "cell_type": "code",
   "execution_count": 16,
   "id": "ee19e56d-f139-4454-9e46-acaa65197fa3",
   "metadata": {},
   "outputs": [
    {
     "data": {
      "text/plain": [
       "'Pakistan'"
      ]
     },
     "execution_count": 16,
     "metadata": {},
     "output_type": "execute_result"
    }
   ],
   "source": [
    "lstCountries [0]"
   ]
  },
  {
   "cell_type": "code",
   "execution_count": 17,
   "id": "051691ad-f72d-488c-aa96-244f090df191",
   "metadata": {},
   "outputs": [
    {
     "data": {
      "text/plain": [
       "'1'"
      ]
     },
     "execution_count": 17,
     "metadata": {},
     "output_type": "execute_result"
    }
   ],
   "source": [
    "lstNumbers[0]"
   ]
  },
  {
   "cell_type": "code",
   "execution_count": 18,
   "id": "51920dd3-42dd-410d-ae9c-fcd1cafbad75",
   "metadata": {},
   "outputs": [
    {
     "data": {
      "text/plain": [
       "'5'"
      ]
     },
     "execution_count": 18,
     "metadata": {},
     "output_type": "execute_result"
    }
   ],
   "source": [
    "lstNumbers[4]"
   ]
  },
  {
   "cell_type": "code",
   "execution_count": 19,
   "id": "a7d3d7c7-7263-4add-8cba-d15b6664ab36",
   "metadata": {},
   "outputs": [
    {
     "ename": "TypeError",
     "evalue": "'str' object does not support item assignment",
     "output_type": "error",
     "traceback": [
      "\u001b[0;31m---------------------------------------------------------------------------\u001b[0m",
      "\u001b[0;31mTypeError\u001b[0m                                 Traceback (most recent call last)",
      "Cell \u001b[0;32mIn[19], line 1\u001b[0m\n\u001b[0;32m----> 1\u001b[0m lstCountries[\u001b[38;5;241m0\u001b[39m][\u001b[38;5;241m0\u001b[39m]\u001b[38;5;241m=\u001b[39m \u001b[38;5;124m\"\u001b[39m\u001b[38;5;124ma\u001b[39m\u001b[38;5;124m\"\u001b[39m\n",
      "\u001b[0;31mTypeError\u001b[0m: 'str' object does not support item assignment"
     ]
    }
   ],
   "source": [
    "lstCountries[0][0]= \"a\"\n"
   ]
  },
  {
   "cell_type": "code",
   "execution_count": 21,
   "id": "7346e5e4-eecd-414e-8cbe-e2d47d56edb5",
   "metadata": {},
   "outputs": [],
   "source": [
    "lstCountries[0]= \"North America\""
   ]
  },
  {
   "cell_type": "code",
   "execution_count": 22,
   "id": "caa996d0-0672-4a3f-ad49-0356e6e7af4f",
   "metadata": {},
   "outputs": [
    {
     "data": {
      "text/plain": [
       "['North America', 'USA', 'China']"
      ]
     },
     "execution_count": 22,
     "metadata": {},
     "output_type": "execute_result"
    }
   ],
   "source": [
    "lstCountries"
   ]
  },
  {
   "cell_type": "code",
   "execution_count": 23,
   "id": "2f778bbe-cede-49d3-958c-57dd6303adf6",
   "metadata": {},
   "outputs": [
    {
     "ename": "SyntaxError",
     "evalue": "invalid syntax (2861617111.py, line 1)",
     "output_type": "error",
     "traceback": [
      "\u001b[0;36m  Cell \u001b[0;32mIn[23], line 1\u001b[0;36m\u001b[0m\n\u001b[0;31m    Elements are mutable however, Individual characters in strings are immutable\u001b[0m\n\u001b[0m             ^\u001b[0m\n\u001b[0;31mSyntaxError\u001b[0m\u001b[0;31m:\u001b[0m invalid syntax\n"
     ]
    }
   ],
   "source": [
    "Elements are mutable however, Individual characters strings are immutable "
   ]
  },
  {
   "cell_type": "code",
   "execution_count": 25,
   "id": "87fc3d50-cf45-4df4-be7b-74b61a64c2b1",
   "metadata": {},
   "outputs": [],
   "source": [
    "lstFibonacci = [1,1,2,3,5, 8,13, 21, 43]"
   ]
  },
  {
   "cell_type": "code",
   "execution_count": 26,
   "id": "6e1089cc-d4c6-4f85-b5ff-5cff2cac46d3",
   "metadata": {},
   "outputs": [
    {
     "ename": "NameError",
     "evalue": "name 'lstFibinacci' is not defined",
     "output_type": "error",
     "traceback": [
      "\u001b[0;31m---------------------------------------------------------------------------\u001b[0m",
      "\u001b[0;31mNameError\u001b[0m                                 Traceback (most recent call last)",
      "Cell \u001b[0;32mIn[26], line 1\u001b[0m\n\u001b[0;32m----> 1\u001b[0m \u001b[38;5;28mlen\u001b[39m(lstFibinacci)\n",
      "\u001b[0;31mNameError\u001b[0m: name 'lstFibinacci' is not defined"
     ]
    }
   ],
   "source": [
    "len(lstFibinacci)"
   ]
  },
  {
   "cell_type": "code",
   "execution_count": 30,
   "id": "2f6e793d-edd1-42e9-92bf-e1efd26e58fb",
   "metadata": {},
   "outputs": [
    {
     "ename": "SyntaxError",
     "evalue": "unterminated string literal (detected at line 1) (1175474931.py, line 1)",
     "output_type": "error",
     "traceback": [
      "\u001b[0;36m  Cell \u001b[0;32mIn[30], line 1\u001b[0;36m\u001b[0m\n\u001b[0;31m    lstPeopleAge = [\"Bob', 23,\"George\", 72, \"Jane\", 65]\u001b[0m\n\u001b[0m                                                 ^\u001b[0m\n\u001b[0;31mSyntaxError\u001b[0m\u001b[0;31m:\u001b[0m unterminated string literal (detected at line 1)\n"
     ]
    }
   ],
   "source": [
    "lstPeopleAge = [\"Bob', 23,\"George\", 72, \"Jane\", 65]"
   ]
  },
  {
   "cell_type": "code",
   "execution_count": 33,
   "id": "9e01687c-cc7b-4456-b521-455ea34bdd97",
   "metadata": {},
   "outputs": [
    {
     "ename": "SyntaxError",
     "evalue": "unterminated string literal (detected at line 2) (296342502.py, line 2)",
     "output_type": "error",
     "traceback": [
      "\u001b[0;36m  Cell \u001b[0;32mIn[33], line 2\u001b[0;36m\u001b[0m\n\u001b[0;31m    print(lstLangauages[0]+ \" and \" + lstLanguages[1] + are quite different\")\u001b[0m\n\u001b[0m                                                                           ^\u001b[0m\n\u001b[0;31mSyntaxError\u001b[0m\u001b[0;31m:\u001b[0m unterminated string literal (detected at line 2)\n"
     ]
    }
   ],
   "source": [
    "lstLanguage = [\"Python\", \"C\", \"C++\", \"Java\", \"Perl\"]\n",
    "print(lstLangauages[0]+ \" and \" + lstLanguages[1] + are quite different\")"
   ]
  },
  {
   "cell_type": "markdown",
   "id": "80cf60fb-426c-4cc0-a9a4-b63f01323eac",
   "metadata": {},
   "source": [
    "### Sublists \n",
    "Lists can have sublists as elements. These sublists may contain sublists as well. "
   ]
  },
  {
   "cell_type": "code",
   "execution_count": 34,
   "id": "42ed7123-ce07-4c34-a198-8013c11e7c0b",
   "metadata": {},
   "outputs": [],
   "source": [
    "lstFamily = [[\"Jack\", \"Smith\"], [\"23rd, Bubble Street\",\"12345\", \"Mclean\"], \"22020-0678\"]"
   ]
  },
  {
   "cell_type": "code",
   "execution_count": 36,
   "id": "de7efd4e-b529-4890-bf18-96b401627b35",
   "metadata": {},
   "outputs": [
    {
     "data": {
      "text/plain": [
       "['Jack', 'Smith']"
      ]
     },
     "execution_count": 36,
     "metadata": {},
     "output_type": "execute_result"
    }
   ],
   "source": [
    "name = lstFamily[0]\n",
    "name"
   ]
  },
  {
   "cell_type": "code",
   "execution_count": 42,
   "id": "ce75cdbf-b840-4917-b7c5-085998b6f9d7",
   "metadata": {},
   "outputs": [
    {
     "data": {
      "text/plain": [
       "'Jack'"
      ]
     },
     "execution_count": 42,
     "metadata": {},
     "output_type": "execute_result"
    }
   ],
   "source": [
    "first_name = lstFamily [0][0]\n",
    "first_name"
   ]
  },
  {
   "cell_type": "code",
   "execution_count": 45,
   "id": "a3d5954c-de65-4c10-ae84-f80a753f7e57",
   "metadata": {},
   "outputs": [
    {
     "data": {
      "text/plain": [
       "'12345'"
      ]
     },
     "execution_count": 45,
     "metadata": {},
     "output_type": "execute_result"
    }
   ],
   "source": [
    "houseNumber = lstFamily[1][1]\n",
    "\n",
    "houseNumber"
   ]
  },
  {
   "cell_type": "code",
   "execution_count": 46,
   "id": "261d36bd-7e82-4831-a07a-8ff639c92bf4",
   "metadata": {},
   "outputs": [
    {
     "data": {
      "text/plain": [
       "'22020-0678'"
      ]
     },
     "execution_count": 46,
     "metadata": {},
     "output_type": "execute_result"
    }
   ],
   "source": [
    "lstFamily[2]"
   ]
  },
  {
   "cell_type": "markdown",
   "id": "70b72916-4c9c-41ee-b186-6dc0b5c80a5d",
   "metadata": {},
   "source": [
    "#### Deeply Structured List "
   ]
  },
  {
   "cell_type": "code",
   "execution_count": null,
   "id": "869505c9-1ba4-4c28-8166-7191fb979bfd",
   "metadata": {},
   "outputs": [],
   "source": [
    "complexList = [[\"a\",[\"b\", [\"c\", \"x\"]]], 42]\n",
    "# Question 1: Print b,c,x, (inside a list)\n",
    "# Question 2; "
   ]
  }
 ],
 "metadata": {
  "kernelspec": {
   "display_name": "Python 3 (ipykernel)",
   "language": "python",
   "name": "python3"
  },
  "language_info": {
   "codemirror_mode": {
    "name": "ipython",
    "version": 3
   },
   "file_extension": ".py",
   "mimetype": "text/x-python",
   "name": "python",
   "nbconvert_exporter": "python",
   "pygments_lexer": "ipython3",
   "version": "3.11.7"
  }
 },
 "nbformat": 4,
 "nbformat_minor": 5
}
