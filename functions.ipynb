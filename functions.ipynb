{
 "cells": [
  {
   "cell_type": "markdown",
   "id": "42ffdda8-a643-4e4a-908a-d476c3ac221e",
   "metadata": {},
   "source": [
    "#### Functions in Python \n",
    "They start with `def` key. `def` means definition \n"
   ]
  },
  {
   "cell_type": "code",
   "execution_count": 4,
   "id": "01b6bb56-f189-47df-9f3e-50aed67ee8f5",
   "metadata": {},
   "outputs": [],
   "source": [
    "''' This is the structure for your python function\n",
    "def <functionName>(<arguments>):\n",
    "    <functionBody>\n",
    "''' \n",
    "## doNothing is the name of the function\n",
    "## pass is a keyword that means do nothing \n",
    "# Function Names cannot have spaces \n",
    "# Function names should start with a lower case\n",
    "# Functions are reusable \n",
    "def doNothing():\n",
    "    pass # This means, do nothing. Or it tels python that there is nothing to do here"
   ]
  },
  {
   "cell_type": "code",
   "execution_count": 25,
   "id": "9083211f-96f2-44fc-a2c5-9b913b94d52f",
   "metadata": {},
   "outputs": [],
   "source": [
    "def greeting(name):\n",
    "    print(\"Hi \" + name)\n",
    "    print(\"Nice to see you again \" + name)"
   ]
  },
  {
   "cell_type": "code",
   "execution_count": 26,
   "id": "d03ebd7e-67df-4123-9772-82b2a776f62d",
   "metadata": {},
   "outputs": [
    {
     "name": "stdout",
     "output_type": "stream",
     "text": [
      "Hi alex\n",
      "Nice to see you again alex\n"
     ]
    }
   ],
   "source": [
    "greeting(\"alex\")"
   ]
  },
  {
   "cell_type": "code",
   "execution_count": 27,
   "id": "9696d758-7bc1-4b70-b0f7-29a9e68d4810",
   "metadata": {},
   "outputs": [
    {
     "name": "stdout",
     "output_type": "stream",
     "text": [
      "Hi Dominique\n",
      "Nice to see you again Dominique\n"
     ]
    }
   ],
   "source": [
    "greeting(\"Dominique\")"
   ]
  },
  {
   "cell_type": "code",
   "execution_count": 28,
   "id": "31ef67d8-6d91-4d28-b91e-a7172129fc18",
   "metadata": {},
   "outputs": [],
   "source": [
    "def f(x,y):\n",
    "    z = 2 * (x + y) \n",
    "    return z \n"
   ]
  },
  {
   "cell_type": "code",
   "execution_count": 29,
   "id": "1cdb0863-bdb9-4c2b-a225-144af6bbef05",
   "metadata": {},
   "outputs": [
    {
     "data": {
      "text/plain": [
       "10"
      ]
     },
     "execution_count": 29,
     "metadata": {},
     "output_type": "execute_result"
    }
   ],
   "source": [
    "f(2,3)"
   ]
  },
  {
   "cell_type": "code",
   "execution_count": 30,
   "id": "8a8b3e86-35be-44ce-8c69-311a45d32a15",
   "metadata": {},
   "outputs": [
    {
     "name": "stdout",
     "output_type": "stream",
     "text": [
      "10\n"
     ]
    }
   ],
   "source": [
    "print(f(2,3))"
   ]
  },
  {
   "cell_type": "markdown",
   "id": "cb51ff61-2a7c-4f1b-8839-a140489a49ec",
   "metadata": {},
   "source": [
    "#### Calculate Fahrenheit by passing in the celsius as an argument\n"
   ]
  },
  {
   "cell_type": "code",
   "execution_count": 1,
   "id": "80337dd1-0c9e-4fcb-a274-696179290beb",
   "metadata": {},
   "outputs": [],
   "source": [
    "def fahrenheit (celsius):\n",
    "    # Returns the temperature in degree farenheit \n",
    "    return (celsius * 9/5) + 32  "
   ]
  },
  {
   "cell_type": "code",
   "execution_count": 2,
   "id": "2c12a471-8cab-482d-be5d-216142c62b6c",
   "metadata": {},
   "outputs": [
    {
     "data": {
      "text/plain": [
       "72.68"
      ]
     },
     "execution_count": 2,
     "metadata": {},
     "output_type": "execute_result"
    }
   ],
   "source": [
    "x = 22.6\n",
    "fahrenheit(x) "
   ]
  },
  {
   "cell_type": "code",
   "execution_count": 4,
   "id": "0573d11d-8ff8-45ab-a608-870574330243",
   "metadata": {},
   "outputs": [
    {
     "data": {
      "text/plain": [
       "95.0"
      ]
     },
     "execution_count": 4,
     "metadata": {},
     "output_type": "execute_result"
    }
   ],
   "source": [
    "fahrenheit(35)"
   ]
  },
  {
   "cell_type": "code",
   "execution_count": 8,
   "id": "4d0459f8-dd53-4748-9cf5-dc001c597aee",
   "metadata": {},
   "outputs": [
    {
     "name": "stdout",
     "output_type": "stream",
     "text": [
      "22.6 --> 72.68\n",
      "25.8 --> 78.44\n",
      "27.3 --> 81.14\n",
      "29.8 --> 85.64\n"
     ]
    }
   ],
   "source": [
    "for t in (22.6, 25.8, 27.3, 29.8):\n",
    "    print(t, \"-->\", fahrenheit(t))"
   ]
  },
  {
   "cell_type": "code",
   "execution_count": 11,
   "id": "f7caae4b-4166-4809-b915-f5c67ecc079f",
   "metadata": {},
   "outputs": [
    {
     "name": "stdin",
     "output_type": "stream",
     "text": [
      "Enter temperature in Celsius 22.6\n"
     ]
    },
    {
     "data": {
      "text/plain": [
       "72.68"
      ]
     },
     "execution_count": 11,
     "metadata": {},
     "output_type": "execute_result"
    }
   ],
   "source": [
    "tInput = float(input(\"Enter temperature in Celsius\"))\n",
    "fahrenheit(tInput)"
   ]
  },
  {
   "cell_type": "markdown",
   "id": "599bf204-778c-4dc7-a83f-4b89e668663e",
   "metadata": {},
   "source": [
    "#### Calculate average \n",
    "Using variable arguments. Variable arguments are identified by `*` "
   ]
  },
  {
   "cell_type": "code",
   "execution_count": 13,
   "id": "7f4a828a-2402-4b3b-820c-6dd2f1631a04",
   "metadata": {},
   "outputs": [],
   "source": [
    "def avg(intFirst, *intRest):\n",
    "    return (intFirst + sum(intRest)) / (1 + len(intRest)) "
   ]
  },
  {
   "cell_type": "code",
   "execution_count": 14,
   "id": "b9f49b65-cfe4-430b-88cd-a076508c8985",
   "metadata": {},
   "outputs": [
    {
     "data": {
      "text/plain": [
       "27.5"
      ]
     },
     "execution_count": 14,
     "metadata": {},
     "output_type": "execute_result"
    }
   ],
   "source": [
    "avg(23, 32)"
   ]
  },
  {
   "cell_type": "code",
   "execution_count": 15,
   "id": "4b9aaa22-8c87-4dd7-8c87-774a090d42f9",
   "metadata": {},
   "outputs": [
    {
     "data": {
      "text/plain": [
       "35.6"
      ]
     },
     "execution_count": 15,
     "metadata": {},
     "output_type": "execute_result"
    }
   ],
   "source": [
    "avg(23, 32, 43, 24, 56)"
   ]
  },
  {
   "cell_type": "code",
   "execution_count": 16,
   "id": "3a0d54b5-9007-4f52-a69f-eedd24bd6369",
   "metadata": {},
   "outputs": [
    {
     "data": {
      "text/plain": [
       "17.0"
      ]
     },
     "execution_count": 16,
     "metadata": {},
     "output_type": "execute_result"
    }
   ],
   "source": [
    "avg(23,11)"
   ]
  },
  {
   "cell_type": "code",
   "execution_count": 17,
   "id": "4180e049-1096-4e5d-858b-32ed513799b4",
   "metadata": {},
   "outputs": [],
   "source": [
    "def flatten_lists(*args):\n",
    "    lstFlat = []\n",
    "    for sublist in args: \n",
    "        lstFlat.extend(sublist)\n",
    "    return lstFlat"
   ]
  },
  {
   "cell_type": "code",
   "execution_count": 18,
   "id": "53b974d0-adfd-4713-b42b-5b32ded816c2",
   "metadata": {},
   "outputs": [
    {
     "data": {
      "text/plain": [
       "[1, 2, 3, 4, 5, 6]"
      ]
     },
     "execution_count": 18,
     "metadata": {},
     "output_type": "execute_result"
    }
   ],
   "source": [
    "flatten_lists([1, 2, 3], [4, 5], [6])"
   ]
  },
  {
   "cell_type": "code",
   "execution_count": 19,
   "id": "1fb2783e-693b-49c0-a1bd-af0fb4c5786c",
   "metadata": {},
   "outputs": [],
   "source": [
    "## helper objects / functions "
   ]
  },
  {
   "cell_type": "code",
   "execution_count": 20,
   "id": "4a2495d1-9981-47eb-bf50-2abb58edc779",
   "metadata": {},
   "outputs": [],
   "source": [
    "def average(*intRest):\n",
    "    return(sum(intRest)) / (len(intRest))"
   ]
  },
  {
   "cell_type": "code",
   "execution_count": 22,
   "id": "0884be1b-80c9-4fd2-aba1-29baf810f1dd",
   "metadata": {},
   "outputs": [
    {
     "data": {
      "text/plain": [
       "23.0"
      ]
     },
     "execution_count": 22,
     "metadata": {},
     "output_type": "execute_result"
    }
   ],
   "source": [
    "average(23)"
   ]
  },
  {
   "cell_type": "markdown",
   "id": "9a0265eb-39a2-4a9a-bef8-e196d17a1c38",
   "metadata": {},
   "source": [
    "### Need minimium of two values to create AVG function"
   ]
  },
  {
   "cell_type": "code",
   "execution_count": 25,
   "id": "98d77d41-94d9-4ee7-b4f3-3bc64e18dc48",
   "metadata": {},
   "outputs": [
    {
     "data": {
      "text/plain": [
       "8.833333333333334"
      ]
     },
     "execution_count": 25,
     "metadata": {},
     "output_type": "execute_result"
    }
   ],
   "source": [
    "xList = [4, 5, 6, 7, 8] #This is a list \n",
    "avg(23, *xList)"
   ]
  },
  {
   "cell_type": "code",
   "execution_count": 27,
   "id": "3fb43dd5-759d-4ab0-950a-36f829185626",
   "metadata": {},
   "outputs": [
    {
     "data": {
      "text/plain": [
       "7.571428571428571"
      ]
     },
     "execution_count": 27,
     "metadata": {},
     "output_type": "execute_result"
    }
   ],
   "source": [
    "yList = (1, 2, 3, 4, 5, 6)\n",
    "avg(32, *yList)"
   ]
  },
  {
   "cell_type": "markdown",
   "id": "dd956c0c-d9b2-4cf3-8811-2400f27841e2",
   "metadata": {},
   "source": [
    "#### Default values for function arguments"
   ]
  },
  {
   "cell_type": "code",
   "execution_count": 32,
   "id": "f77385ae-fc28-4461-89c8-c30f406b1855",
   "metadata": {},
   "outputs": [],
   "source": [
    "def hello(name=\"Everybody\"):# name has become an optional argument \n",
    "    print(\"Hello \" + name + \"!\")"
   ]
  },
  {
   "cell_type": "code",
   "execution_count": 29,
   "id": "160a02b9-4119-4fbd-995e-b30d4b5261de",
   "metadata": {},
   "outputs": [
    {
     "name": "stdout",
     "output_type": "stream",
     "text": [
      "Hello Jane!\n"
     ]
    }
   ],
   "source": [
    "hello(\"Jane\")"
   ]
  },
  {
   "cell_type": "code",
   "execution_count": 33,
   "id": "a872a0d7-37fd-49fa-ae93-e894beb70032",
   "metadata": {},
   "outputs": [
    {
     "name": "stdout",
     "output_type": "stream",
     "text": [
      "Hello Everybody!\n"
     ]
    }
   ],
   "source": [
    "hello()"
   ]
  },
  {
   "cell_type": "markdown",
   "id": "dfc45a08-249a-4708-8fa1-a4c59373b875",
   "metadata": {},
   "source": [
    "#### annotations\n",
    "Function argument annotations can be useful way to give programmers hints about how a function is supposed to be used. "
   ]
  },
  {
   "cell_type": "code",
   "execution_count": 39,
   "id": "30f35885-a53b-401d-9533-d6b438721bf2",
   "metadata": {},
   "outputs": [],
   "source": [
    "def add(x:int, y:int) ->int:\n",
    "    return x + y "
   ]
  },
  {
   "cell_type": "code",
   "execution_count": 40,
   "id": "a2ce4534-ab5b-4bb7-b4ef-fcc8f9f219c3",
   "metadata": {},
   "outputs": [
    {
     "name": "stdout",
     "output_type": "stream",
     "text": [
      "Help on function add in module __main__:\n",
      "\n",
      "add(x: int, y: int) -> int\n",
      "\n"
     ]
    }
   ],
   "source": [
    "help(add) "
   ]
  },
  {
   "cell_type": "markdown",
   "id": "02c036a0-bcde-4a70-afd4-1b3ce6679612",
   "metadata": {},
   "source": [
    "#### Python functions can return multuple values (Will return as a tuple)"
   ]
  },
  {
   "cell_type": "code",
   "execution_count": 47,
   "id": "1b3824ee-81cd-4d14-bb89-a87aec187f3e",
   "metadata": {},
   "outputs": [],
   "source": [
    "def myFunc():\n",
    "    return 1, 2, 3"
   ]
  },
  {
   "cell_type": "code",
   "execution_count": 52,
   "id": "4d9135a3-aecc-479f-9d90-77731d9d852d",
   "metadata": {},
   "outputs": [
    {
     "name": "stdout",
     "output_type": "stream",
     "text": [
      "Help on function myFunc in module __main__:\n",
      "\n",
      "myFunc()\n",
      "\n"
     ]
    }
   ],
   "source": [
    "help(myFunc)"
   ]
  },
  {
   "cell_type": "code",
   "execution_count": 48,
   "id": "a2de838b-9000-42ad-a0a8-c45323fcb4d8",
   "metadata": {},
   "outputs": [],
   "source": [
    "a, b, c = myFunc()"
   ]
  },
  {
   "cell_type": "code",
   "execution_count": 49,
   "id": "91b1bac2-9e50-4fdf-84a1-85155a30cd52",
   "metadata": {},
   "outputs": [
    {
     "data": {
      "text/plain": [
       "1"
      ]
     },
     "execution_count": 49,
     "metadata": {},
     "output_type": "execute_result"
    }
   ],
   "source": [
    "a"
   ]
  },
  {
   "cell_type": "code",
   "execution_count": 50,
   "id": "aa0ce8dc-d961-4f26-9f56-b9bc14d53196",
   "metadata": {},
   "outputs": [
    {
     "data": {
      "text/plain": [
       "2"
      ]
     },
     "execution_count": 50,
     "metadata": {},
     "output_type": "execute_result"
    }
   ],
   "source": [
    "b"
   ]
  },
  {
   "cell_type": "code",
   "execution_count": 51,
   "id": "9abda1f6-9092-49e6-b2dc-bdf053261019",
   "metadata": {},
   "outputs": [
    {
     "data": {
      "text/plain": [
       "3"
      ]
     },
     "execution_count": 51,
     "metadata": {},
     "output_type": "execute_result"
    }
   ],
   "source": [
    "c"
   ]
  },
  {
   "cell_type": "markdown",
   "id": "63b69657-be1f-4d81-9932-8a79a1c9797f",
   "metadata": {},
   "source": [
    "#### Multiple function parameters "
   ]
  },
  {
   "cell_type": "code",
   "execution_count": 64,
   "id": "36f433b4-4811-4109-9f4e-902323c01b6c",
   "metadata": {},
   "outputs": [],
   "source": [
    "def sumProblem(x, y): \n",
    "    sum = x + y\n",
    "    sentence = \"The sum of {} and {} is {}\" .format(x, y, sum )\n",
    "    print (sentence)"
   ]
  },
  {
   "cell_type": "code",
   "execution_count": 65,
   "id": "1bb77e59-4eb8-49fe-a9ad-18fed603cb44",
   "metadata": {},
   "outputs": [],
   "source": [
    "def main():\n",
    "    a = int(input(\"Enter an Integer: \"))\n",
    "    b = int(input(\"Enter another Integer: \"))\n",
    "    sumProblem(a,b)"
   ]
  },
  {
   "cell_type": "code",
   "execution_count": 66,
   "id": "c654397a-3f88-4b6b-ac51-ceda9701b0e5",
   "metadata": {},
   "outputs": [
    {
     "name": "stdin",
     "output_type": "stream",
     "text": [
      "Enter an Integer:  23\n",
      "Enter another Integer:  3\n"
     ]
    },
    {
     "name": "stdout",
     "output_type": "stream",
     "text": [
      "The sum of 23 and 3 is 26\n"
     ]
    }
   ],
   "source": [
    "main()"
   ]
  },
  {
   "cell_type": "markdown",
   "id": "03d9b672-2cd3-4e32-b3a2-03118b397721",
   "metadata": {},
   "source": [
    "#### Outer and Inner Functions \n",
    "\n",
    "#### Encapsulation: Hide the Implementation details"
   ]
  },
  {
   "cell_type": "code",
   "execution_count": 68,
   "id": "c0738683-7032-4f27-a9e5-d7e4ff9fb22f",
   "metadata": {},
   "outputs": [],
   "source": [
    "def outer(num1):\n",
    "    def innerIncrement(num1):\n",
    "        return num1 + 1\n",
    "    num2 = innerIncrement(num1)\n",
    "    print(num1, num2)"
   ]
  },
  {
   "cell_type": "code",
   "execution_count": 69,
   "id": "a25b585c-6676-47a8-9639-9dbb1f613d0a",
   "metadata": {},
   "outputs": [
    {
     "name": "stdout",
     "output_type": "stream",
     "text": [
      "2 3\n"
     ]
    }
   ],
   "source": [
    "outer(2)"
   ]
  },
  {
   "cell_type": "code",
   "execution_count": 70,
   "id": "357a39dc-8ab9-48f9-8058-3be5514335ac",
   "metadata": {},
   "outputs": [
    {
     "name": "stdout",
     "output_type": "stream",
     "text": [
      "Help on function outer in module __main__:\n",
      "\n",
      "outer(num1)\n",
      "\n"
     ]
    }
   ],
   "source": [
    "help(outer)"
   ]
  },
  {
   "cell_type": "markdown",
   "id": "d82803ef-ccb4-4617-98ee-81b1da7ebd9e",
   "metadata": {},
   "source": [
    "#### Financial calulations tend to use this approach "
   ]
  },
  {
   "cell_type": "markdown",
   "id": "757347d4-a678-436f-8cae-c6c76c41e266",
   "metadata": {},
   "source": [
    "#### Calculator \n",
    "* Write functions for add, subtract, multiple and divide \n",
    "* Use annotations\n",
    "* Ask a user for a choice (1: add, 2: Subtract, 3: Multiply, 4: Division)\n",
    "* Return the result\n"
   ]
  },
  {
   "cell_type": "code",
   "execution_count": 76,
   "id": "58dd99ce-aff1-4223-b166-a634dce7f53d",
   "metadata": {},
   "outputs": [
    {
     "name": "stdout",
     "output_type": "stream",
     "text": [
      "Select operation:\n",
      "1. Add\n",
      "2. Subtract\n",
      "3. Multiply\n",
      "4. Divide\n"
     ]
    },
    {
     "name": "stdin",
     "output_type": "stream",
     "text": [
      "Enter choice (1/2/3/4):  2\n",
      "Enter first number:  10\n",
      "Enter second number:  8\n"
     ]
    },
    {
     "name": "stdout",
     "output_type": "stream",
     "text": [
      "Result: 2.0\n"
     ]
    }
   ],
   "source": [
    "def add(x: float, y: float) -> float:\n",
    "    return x + y\n",
    "\n",
    "def subtract(x: float, y: float) -> float:\n",
    "    return x - y\n",
    "\n",
    "def multiply(x: float, y: float) -> float:\n",
    "    return x * y\n",
    "\n",
    "def divide(x: float, y: float) -> float:\n",
    "    if y == 0:\n",
    "        raise ValueError(\"Cannot divide by zero!\")\n",
    "    return x / y\n",
    "\n",
    "def calculator():\n",
    "    print(\"Select operation:\")\n",
    "    print(\"1. Add\")\n",
    "    print(\"2. Subtract\")\n",
    "    print(\"3. Multiply\")\n",
    "    print(\"4. Divide\")\n",
    "\n",
    "    choice = input(\"Enter choice (1/2/3/4): \")\n",
    "\n",
    "    num1 = float(input(\"Enter first number: \"))\n",
    "    num2 = float(input(\"Enter second number: \"))\n",
    "\n",
    "    if choice == '1':\n",
    "        return add(num1, num2)\n",
    "    elif choice == '2':\n",
    "        return subtract(num1, num2)\n",
    "    elif choice == '3':\n",
    "        return multiply(num1, num2)\n",
    "    elif choice == '4':\n",
    "        try:\n",
    "            return divide(num1, num2)\n",
    "        except ValueError as e:\n",
    "            return str(e)\n",
    "    else:\n",
    "        return \"Invalid input\"\n",
    "\n",
    "# Main function to run the calculator\n",
    "result = calculator()\n",
    "print(\"Result:\", result)\n"
   ]
  },
  {
   "cell_type": "code",
   "execution_count": null,
   "id": "bc54de1a-4b59-4645-b9dd-69143d0b7922",
   "metadata": {},
   "outputs": [],
   "source": []
  }
 ],
 "metadata": {
  "kernelspec": {
   "display_name": "Python 3 (ipykernel)",
   "language": "python",
   "name": "python3"
  },
  "language_info": {
   "codemirror_mode": {
    "name": "ipython",
    "version": 3
   },
   "file_extension": ".py",
   "mimetype": "text/x-python",
   "name": "python",
   "nbconvert_exporter": "python",
   "pygments_lexer": "ipython3",
   "version": "3.11.7"
  }
 },
 "nbformat": 4,
 "nbformat_minor": 5
}
