{
 "cells": [
  {
   "cell_type": "markdown",
   "id": "9640a619-876e-4a4a-ab54-bf1974db376a",
   "metadata": {},
   "source": [
    "### Integer Division \n",
    "There are two kinds fo division operators \n",
    "* \"true division\" performed by \"/\"\n",
    "* \"floor divison\" performed by \"//\""
   ]
  },
  {
   "cell_type": "markdown",
   "id": "83b7e839-26a3-40ca-8de0-83675d994be1",
   "metadata": {},
   "source": [
    "#### True Division \n",
    "True division uses the slash (/) character as the operator sign"
   ]
  },
  {
   "cell_type": "code",
   "execution_count": 1,
   "id": "eecaff34-3866-4041-bdc0-0d1ca3413fcd",
   "metadata": {},
   "outputs": [
    {
     "data": {
      "text/plain": [
       "3.3333333333333335"
      ]
     },
     "execution_count": 1,
     "metadata": {},
     "output_type": "execute_result"
    }
   ],
   "source": [
    "10/3"
   ]
  },
  {
   "cell_type": "code",
   "execution_count": 2,
   "id": "d51ea8c9-07ef-4c21-b761-ef483a0922fb",
   "metadata": {},
   "outputs": [
    {
     "data": {
      "text/plain": [
       "3.3333333333333335"
      ]
     },
     "execution_count": 2,
     "metadata": {},
     "output_type": "execute_result"
    }
   ],
   "source": [
    "10.0/3.0"
   ]
  },
  {
   "cell_type": "code",
   "execution_count": 3,
   "id": "aadb54a1-65c3-4a4f-af26-90aee89ed712",
   "metadata": {},
   "outputs": [
    {
     "data": {
      "text/plain": [
       "3.0"
      ]
     },
     "execution_count": 3,
     "metadata": {},
     "output_type": "execute_result"
    }
   ],
   "source": [
    "10.5/3.5"
   ]
  },
  {
   "cell_type": "code",
   "execution_count": 4,
   "id": "98060e60-37da-4bfe-9f16-804f4697ae9f",
   "metadata": {},
   "outputs": [],
   "source": [
    "result1 = 10/3 "
   ]
  },
  {
   "cell_type": "code",
   "execution_count": 5,
   "id": "254f334f-5b5a-4199-8ea7-aecd9bd9c5a8",
   "metadata": {},
   "outputs": [
    {
     "ename": "NameError",
     "evalue": "name 'Print' is not defined",
     "output_type": "error",
     "traceback": [
      "\u001b[0;31m---------------------------------------------------------------------------\u001b[0m",
      "\u001b[0;31mNameError\u001b[0m                                 Traceback (most recent call last)",
      "Cell \u001b[0;32mIn[5], line 1\u001b[0m\n\u001b[0;32m----> 1\u001b[0m Print(result1)\n",
      "\u001b[0;31mNameError\u001b[0m: name 'Print' is not defined"
     ]
    }
   ],
   "source": [
    "Print(result1)"
   ]
  },
  {
   "cell_type": "code",
   "execution_count": 6,
   "id": "67d0e7d6-4a92-4f83-8ef0-a62b1a8792b5",
   "metadata": {},
   "outputs": [
    {
     "name": "stdout",
     "output_type": "stream",
     "text": [
      "3.3333333333333335\n"
     ]
    }
   ],
   "source": [
    "print(result1)"
   ]
  },
  {
   "cell_type": "code",
   "execution_count": 7,
   "id": "605b0011-89ee-43ba-b056-4be093436e72",
   "metadata": {},
   "outputs": [
    {
     "data": {
      "text/plain": [
       "3.3333333333333335"
      ]
     },
     "execution_count": 7,
     "metadata": {},
     "output_type": "execute_result"
    }
   ],
   "source": [
    "result1"
   ]
  },
  {
   "cell_type": "markdown",
   "id": "0a2cb126-376b-4e41-a390-287be8d15030",
   "metadata": {},
   "source": [
    "### Floor Division \n",
    "The operator \"//\" performs the floor division, i.e, the dividend is divided by the advisor - like in true division \n",
    "but the floor of the result will be retuned "
   ]
  },
  {
   "cell_type": "code",
   "execution_count": 8,
   "id": "6d890b30-94a7-4919-a215-e1e50b3f5607",
   "metadata": {},
   "outputs": [
    {
     "data": {
      "text/plain": [
       "3.0"
      ]
     },
     "execution_count": 8,
     "metadata": {},
     "output_type": "execute_result"
    }
   ],
   "source": [
    "9 / 3"
   ]
  },
  {
   "cell_type": "code",
   "execution_count": 9,
   "id": "b8f46f0d-9bb0-481a-82a9-0452f726c9c6",
   "metadata": {},
   "outputs": [
    {
     "data": {
      "text/plain": [
       "3"
      ]
     },
     "execution_count": 9,
     "metadata": {},
     "output_type": "execute_result"
    }
   ],
   "source": [
    "10 // 3"
   ]
  },
  {
   "cell_type": "code",
   "execution_count": 10,
   "id": "77e24648-c2f7-4e8b-a86b-af51e184b100",
   "metadata": {},
   "outputs": [
    {
     "data": {
      "text/plain": [
       "3"
      ]
     },
     "execution_count": 10,
     "metadata": {},
     "output_type": "execute_result"
    }
   ],
   "source": [
    "11 // 3"
   ]
  },
  {
   "cell_type": "code",
   "execution_count": 11,
   "id": "3d04fe4b-b0d8-4240-b037-c51464315f3f",
   "metadata": {},
   "outputs": [
    {
     "data": {
      "text/plain": [
       "4"
      ]
     },
     "execution_count": 11,
     "metadata": {},
     "output_type": "execute_result"
    }
   ],
   "source": [
    "12 // 3"
   ]
  },
  {
   "cell_type": "code",
   "execution_count": 12,
   "id": "66f8f770-8865-4a5d-9faa-cbce1b03381b",
   "metadata": {},
   "outputs": [
    {
     "data": {
      "text/plain": [
       "3.0"
      ]
     },
     "execution_count": 12,
     "metadata": {},
     "output_type": "execute_result"
    }
   ],
   "source": [
    "10.0 // 3"
   ]
  },
  {
   "cell_type": "code",
   "execution_count": 13,
   "id": "d31657a5-df4d-49f3-a6c8-a582f7e58ade",
   "metadata": {},
   "outputs": [
    {
     "data": {
      "text/plain": [
       "-3"
      ]
     },
     "execution_count": 13,
     "metadata": {},
     "output_type": "execute_result"
    }
   ],
   "source": [
    "-7 // 3 "
   ]
  },
  {
   "cell_type": "code",
   "execution_count": null,
   "id": "bbd6bf4d-242c-4922-8745-397f6576c3e5",
   "metadata": {},
   "outputs": [],
   "source": []
  }
 ],
 "metadata": {
  "kernelspec": {
   "display_name": "Python 3 (ipykernel)",
   "language": "python",
   "name": "python3"
  },
  "language_info": {
   "codemirror_mode": {
    "name": "ipython",
    "version": 3
   },
   "file_extension": ".py",
   "mimetype": "text/x-python",
   "name": "python",
   "nbconvert_exporter": "python",
   "pygments_lexer": "ipython3",
   "version": "3.11.7"
  }
 },
 "nbformat": 4,
 "nbformat_minor": 5
}
